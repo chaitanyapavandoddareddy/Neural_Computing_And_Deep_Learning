{
 "cells": [
  {
   "cell_type": "code",
   "execution_count": 7,
   "id": "dbb91ba9-0535-4db9-90cd-4714219d05b4",
   "metadata": {},
   "outputs": [],
   "source": [
    "import tensorflow as tf\n",
    "from tensorflow.keras.applications import VGG16, ResNet50, MobileNet\n",
    "from tensorflow.keras.models import Sequential\n",
    "from tensorflow.keras.layers import Dense, Flatten, Dropout\n",
    "from tensorflow.keras.optimizers import Adam\n",
    "from tensorflow.keras.datasets import cifar10\n",
    "from tensorflow.keras.utils import to_categorical"
   ]
  },
  {
   "cell_type": "code",
   "execution_count": 2,
   "id": "fae7e70c-6d5c-419f-b8a0-8ae8a1909943",
   "metadata": {},
   "outputs": [],
   "source": [
    "# Load CIFAR-10 data\n",
    "(train_images, train_labels), (test_images, test_labels) = cifar10.load_data()\n"
   ]
  },
  {
   "cell_type": "code",
   "execution_count": 3,
   "id": "9940b60d-fc31-44fc-ae0a-7c0aedabcb3d",
   "metadata": {},
   "outputs": [],
   "source": [
    "# Preprocess the data\n",
    "train_images = train_images.astype('float32') / 255.0\n",
    "test_images = test_images.astype('float32') / 255.0\n",
    "train_labels = to_categorical(train_labels, 10)\n",
    "test_labels = to_categorical(test_labels, 10)\n"
   ]
  },
  {
   "cell_type": "code",
   "execution_count": 4,
   "id": "58e76bed-6c87-4acf-a68c-18dc437b3bc1",
   "metadata": {},
   "outputs": [],
   "source": [
    "def build_and_train_model(base_model, train_images, train_labels, test_images, test_labels):\n",
    "    # Create the model\n",
    "    model = Sequential([\n",
    "        base_model,\n",
    "        Flatten(),\n",
    "        Dense(512, activation='relu'),\n",
    "        Dropout(0.5),\n",
    "        Dense(10, activation='softmax')\n",
    "    ])\n",
    "    \n",
    "    # Compile the model\n",
    "    model.compile(optimizer=Adam(lr=0.0001), loss='categorical_crossentropy', metrics=['accuracy'])\n",
    "\n",
    "    # Train the model\n",
    "    history = model.fit(train_images, train_labels, epochs=10, batch_size=256, validation_data=(test_images, test_labels))\n",
    "    return history\n"
   ]
  },
  {
   "cell_type": "code",
   "execution_count": 5,
   "id": "0d3f7331-1c17-4076-93ac-a0eb389654ed",
   "metadata": {},
   "outputs": [
    {
     "name": "stderr",
     "output_type": "stream",
     "text": [
      "2024-04-28 23:55:17.133260: I metal_plugin/src/device/metal_device.cc:1154] Metal device set to: Apple M1 Pro\n",
      "2024-04-28 23:55:17.133289: I metal_plugin/src/device/metal_device.cc:296] systemMemory: 16.00 GB\n",
      "2024-04-28 23:55:17.133297: I metal_plugin/src/device/metal_device.cc:313] maxCacheSize: 5.33 GB\n",
      "2024-04-28 23:55:17.133334: I tensorflow/core/common_runtime/pluggable_device/pluggable_device_factory.cc:303] Could not identify NUMA node of platform GPU ID 0, defaulting to 0. Your kernel may not have been built with NUMA support.\n",
      "2024-04-28 23:55:17.133352: I tensorflow/core/common_runtime/pluggable_device/pluggable_device_factory.cc:269] Created TensorFlow device (/job:localhost/replica:0/task:0/device:GPU:0 with 0 MB memory) -> physical PluggableDevice (device: 0, name: METAL, pci bus id: <undefined>)\n",
      "WARNING:absl:At this time, the v2.11+ optimizer `tf.keras.optimizers.Adam` runs slowly on M1/M2 Macs, please use the legacy Keras optimizer instead, located at `tf.keras.optimizers.legacy.Adam`.\n",
      "WARNING:absl:`lr` is deprecated in Keras optimizer, please use `learning_rate` or use the legacy optimizer, e.g.,tf.keras.optimizers.legacy.Adam.\n",
      "WARNING:absl:There is a known slowdown when using v2.11+ Keras optimizers on M1/M2 Macs. Falling back to the legacy Keras optimizer, i.e., `tf.keras.optimizers.legacy.Adam`.\n"
     ]
    },
    {
     "name": "stdout",
     "output_type": "stream",
     "text": [
      "Epoch 1/10\n"
     ]
    },
    {
     "name": "stderr",
     "output_type": "stream",
     "text": [
      "2024-04-28 23:55:18.396421: I tensorflow/core/grappler/optimizers/custom_graph_optimizer_registry.cc:114] Plugin optimizer for device_type GPU is enabled.\n"
     ]
    },
    {
     "name": "stdout",
     "output_type": "stream",
     "text": [
      "196/196 [==============================] - ETA: 0s - loss: 1.6182 - accuracy: 0.4342"
     ]
    },
    {
     "name": "stderr",
     "output_type": "stream",
     "text": [
      "2024-04-28 23:55:29.293028: I tensorflow/core/grappler/optimizers/custom_graph_optimizer_registry.cc:114] Plugin optimizer for device_type GPU is enabled.\n"
     ]
    },
    {
     "name": "stdout",
     "output_type": "stream",
     "text": [
      "196/196 [==============================] - 13s 54ms/step - loss: 1.6182 - accuracy: 0.4342 - val_loss: 1.3156 - val_accuracy: 0.5436\n",
      "Epoch 2/10\n",
      "196/196 [==============================] - 10s 49ms/step - loss: 1.3451 - accuracy: 0.5311 - val_loss: 1.2715 - val_accuracy: 0.5557\n",
      "Epoch 3/10\n",
      "196/196 [==============================] - 10s 49ms/step - loss: 1.2857 - accuracy: 0.5519 - val_loss: 1.2410 - val_accuracy: 0.5682\n",
      "Epoch 4/10\n",
      "196/196 [==============================] - 10s 49ms/step - loss: 1.2578 - accuracy: 0.5620 - val_loss: 1.2205 - val_accuracy: 0.5736\n",
      "Epoch 5/10\n",
      "196/196 [==============================] - 10s 49ms/step - loss: 1.2462 - accuracy: 0.5660 - val_loss: 1.2212 - val_accuracy: 0.5724\n",
      "Epoch 6/10\n",
      "196/196 [==============================] - 10s 49ms/step - loss: 1.2389 - accuracy: 0.5708 - val_loss: 1.2110 - val_accuracy: 0.5744\n",
      "Epoch 7/10\n",
      "196/196 [==============================] - 10s 49ms/step - loss: 1.2299 - accuracy: 0.5737 - val_loss: 1.2128 - val_accuracy: 0.5771\n",
      "Epoch 8/10\n",
      "196/196 [==============================] - 10s 49ms/step - loss: 1.2233 - accuracy: 0.5741 - val_loss: 1.2175 - val_accuracy: 0.5754\n",
      "Epoch 9/10\n",
      "196/196 [==============================] - 10s 49ms/step - loss: 1.2184 - accuracy: 0.5776 - val_loss: 1.2144 - val_accuracy: 0.5790\n",
      "Epoch 10/10\n",
      "196/196 [==============================] - 10s 49ms/step - loss: 1.2199 - accuracy: 0.5772 - val_loss: 1.2000 - val_accuracy: 0.5840\n"
     ]
    }
   ],
   "source": [
    "# VGG16 Model\n",
    "vgg16_base = VGG16(weights='imagenet', include_top=False, input_shape=(32, 32, 3))\n",
    "for layer in vgg16_base.layers:\n",
    "    layer.trainable = False\n",
    "vgg16_history = build_and_train_model(vgg16_base, train_images, train_labels, test_images, test_labels)\n"
   ]
  },
  {
   "cell_type": "code",
   "execution_count": 8,
   "id": "8a51b227-480b-45ee-a568-3a93085620e1",
   "metadata": {},
   "outputs": [
    {
     "name": "stderr",
     "output_type": "stream",
     "text": [
      "WARNING:absl:At this time, the v2.11+ optimizer `tf.keras.optimizers.Adam` runs slowly on M1/M2 Macs, please use the legacy Keras optimizer instead, located at `tf.keras.optimizers.legacy.Adam`.\n",
      "WARNING:absl:`lr` is deprecated in Keras optimizer, please use `learning_rate` or use the legacy optimizer, e.g.,tf.keras.optimizers.legacy.Adam.\n",
      "WARNING:absl:There is a known slowdown when using v2.11+ Keras optimizers on M1/M2 Macs. Falling back to the legacy Keras optimizer, i.e., `tf.keras.optimizers.legacy.Adam`.\n"
     ]
    },
    {
     "name": "stdout",
     "output_type": "stream",
     "text": [
      "Epoch 1/10\n"
     ]
    },
    {
     "name": "stderr",
     "output_type": "stream",
     "text": [
      "2024-04-28 23:57:36.534449: I tensorflow/core/grappler/optimizers/custom_graph_optimizer_registry.cc:114] Plugin optimizer for device_type GPU is enabled.\n"
     ]
    },
    {
     "name": "stdout",
     "output_type": "stream",
     "text": [
      "196/196 [==============================] - ETA: 0s - loss: 3.4436 - accuracy: 0.1439"
     ]
    },
    {
     "name": "stderr",
     "output_type": "stream",
     "text": [
      "2024-04-28 23:57:54.337624: I tensorflow/core/grappler/optimizers/custom_graph_optimizer_registry.cc:114] Plugin optimizer for device_type GPU is enabled.\n"
     ]
    },
    {
     "name": "stdout",
     "output_type": "stream",
     "text": [
      "196/196 [==============================] - 23s 105ms/step - loss: 3.4436 - accuracy: 0.1439 - val_loss: 2.0972 - val_accuracy: 0.2428\n",
      "Epoch 2/10\n",
      "196/196 [==============================] - 19s 95ms/step - loss: 2.3195 - accuracy: 0.2167 - val_loss: 1.9810 - val_accuracy: 0.2672\n",
      "Epoch 3/10\n",
      "196/196 [==============================] - 19s 95ms/step - loss: 2.0918 - accuracy: 0.2518 - val_loss: 1.9232 - val_accuracy: 0.2916\n",
      "Epoch 4/10\n",
      "196/196 [==============================] - 19s 95ms/step - loss: 2.0058 - accuracy: 0.2741 - val_loss: 1.9273 - val_accuracy: 0.2903\n",
      "Epoch 5/10\n",
      "196/196 [==============================] - 19s 95ms/step - loss: 1.9598 - accuracy: 0.2887 - val_loss: 1.8538 - val_accuracy: 0.3342\n",
      "Epoch 6/10\n",
      "196/196 [==============================] - 19s 95ms/step - loss: 1.9339 - accuracy: 0.2983 - val_loss: 1.8267 - val_accuracy: 0.3420\n",
      "Epoch 7/10\n",
      "196/196 [==============================] - 19s 95ms/step - loss: 1.9121 - accuracy: 0.3056 - val_loss: 1.7962 - val_accuracy: 0.3574\n",
      "Epoch 8/10\n",
      "196/196 [==============================] - 18s 94ms/step - loss: 1.8934 - accuracy: 0.3140 - val_loss: 1.8254 - val_accuracy: 0.3443\n",
      "Epoch 9/10\n",
      "196/196 [==============================] - 19s 95ms/step - loss: 1.8793 - accuracy: 0.3211 - val_loss: 1.7836 - val_accuracy: 0.3518\n",
      "Epoch 10/10\n",
      "196/196 [==============================] - 19s 95ms/step - loss: 1.8691 - accuracy: 0.3244 - val_loss: 1.7982 - val_accuracy: 0.3502\n"
     ]
    }
   ],
   "source": [
    "# ResNet50 Model\n",
    "resnet50_base = ResNet50(weights='imagenet', include_top=False, input_shape=(32, 32, 3))\n",
    "for layer in resnet50_base.layers:\n",
    "    layer.trainable = False\n",
    "resnet50_history = build_and_train_model(resnet50_base, train_images, train_labels, test_images, test_labels)\n"
   ]
  },
  {
   "cell_type": "code",
   "execution_count": 9,
   "id": "fc788f19-c3b1-4dc9-a6ff-81197f4a39dc",
   "metadata": {},
   "outputs": [
    {
     "name": "stdout",
     "output_type": "stream",
     "text": [
      "WARNING:tensorflow:`input_shape` is undefined or non-square, or `rows` is not in [128, 160, 192, 224]. Weights for input shape (224, 224) will be loaded as the default.\n"
     ]
    },
    {
     "name": "stderr",
     "output_type": "stream",
     "text": [
      "WARNING:tensorflow:`input_shape` is undefined or non-square, or `rows` is not in [128, 160, 192, 224]. Weights for input shape (224, 224) will be loaded as the default.\n",
      "WARNING:absl:At this time, the v2.11+ optimizer `tf.keras.optimizers.Adam` runs slowly on M1/M2 Macs, please use the legacy Keras optimizer instead, located at `tf.keras.optimizers.legacy.Adam`.\n",
      "WARNING:absl:`lr` is deprecated in Keras optimizer, please use `learning_rate` or use the legacy optimizer, e.g.,tf.keras.optimizers.legacy.Adam.\n",
      "WARNING:absl:There is a known slowdown when using v2.11+ Keras optimizers on M1/M2 Macs. Falling back to the legacy Keras optimizer, i.e., `tf.keras.optimizers.legacy.Adam`.\n"
     ]
    },
    {
     "name": "stdout",
     "output_type": "stream",
     "text": [
      "Epoch 1/10\n"
     ]
    },
    {
     "name": "stderr",
     "output_type": "stream",
     "text": [
      "2024-04-29 00:00:46.769774: I tensorflow/core/grappler/optimizers/custom_graph_optimizer_registry.cc:114] Plugin optimizer for device_type GPU is enabled.\n"
     ]
    },
    {
     "name": "stdout",
     "output_type": "stream",
     "text": [
      "196/196 [==============================] - ETA: 0s - loss: 2.2085 - accuracy: 0.1846"
     ]
    },
    {
     "name": "stderr",
     "output_type": "stream",
     "text": [
      "2024-04-29 00:00:53.000215: I tensorflow/core/grappler/optimizers/custom_graph_optimizer_registry.cc:114] Plugin optimizer for device_type GPU is enabled.\n"
     ]
    },
    {
     "name": "stdout",
     "output_type": "stream",
     "text": [
      "196/196 [==============================] - 8s 35ms/step - loss: 2.2085 - accuracy: 0.1846 - val_loss: 2.1608 - val_accuracy: 0.2172\n",
      "Epoch 2/10\n",
      "196/196 [==============================] - 6s 30ms/step - loss: 2.1696 - accuracy: 0.2119 - val_loss: 2.1493 - val_accuracy: 0.2214\n",
      "Epoch 3/10\n",
      "196/196 [==============================] - 6s 29ms/step - loss: 2.1654 - accuracy: 0.2122 - val_loss: 2.1492 - val_accuracy: 0.2227\n",
      "Epoch 4/10\n",
      "196/196 [==============================] - 6s 30ms/step - loss: 2.1625 - accuracy: 0.2142 - val_loss: 2.1467 - val_accuracy: 0.2240\n",
      "Epoch 5/10\n",
      "196/196 [==============================] - 6s 30ms/step - loss: 2.1617 - accuracy: 0.2126 - val_loss: 2.1465 - val_accuracy: 0.2230\n",
      "Epoch 6/10\n",
      "196/196 [==============================] - 6s 30ms/step - loss: 2.1628 - accuracy: 0.2141 - val_loss: 2.1484 - val_accuracy: 0.2200\n",
      "Epoch 7/10\n",
      "196/196 [==============================] - 6s 30ms/step - loss: 2.1628 - accuracy: 0.2116 - val_loss: 2.1454 - val_accuracy: 0.2200\n",
      "Epoch 8/10\n",
      "196/196 [==============================] - 6s 30ms/step - loss: 2.1621 - accuracy: 0.2151 - val_loss: 2.1466 - val_accuracy: 0.2244\n",
      "Epoch 9/10\n",
      "196/196 [==============================] - 6s 30ms/step - loss: 2.1627 - accuracy: 0.2130 - val_loss: 2.1479 - val_accuracy: 0.2122\n",
      "Epoch 10/10\n",
      "196/196 [==============================] - 6s 30ms/step - loss: 2.1625 - accuracy: 0.2148 - val_loss: 2.1458 - val_accuracy: 0.2204\n"
     ]
    }
   ],
   "source": [
    "# MobileNet Model\n",
    "mobilenet_base = MobileNet(weights='imagenet', include_top=False, input_shape=(32, 32, 3))\n",
    "for layer in mobilenet_base.layers:\n",
    "    layer.trainable = False\n",
    "mobilenet_history = build_and_train_model(mobilenet_base, train_images, train_labels, test_images, test_labels)"
   ]
  },
  {
   "cell_type": "code",
   "execution_count": 13,
   "id": "f1af6a8a-6784-4a77-a2fc-d6f2bc724cd3",
   "metadata": {},
   "outputs": [
    {
     "name": "stdout",
     "output_type": "stream",
     "text": [
      "313/313 [==============================] - 5s 15ms/step - loss: 1.2000 - accuracy: 0.5840\n",
      "313/313 [==============================] - 7s 21ms/step - loss: 1.7982 - accuracy: 0.3502\n",
      "313/313 [==============================] - 4s 12ms/step - loss: 2.1458 - accuracy: 0.2204\n",
      "VGG16 Accuracy: 0.5840\n",
      "ResNet50 Accuracy: 0.3502\n",
      "MobileNet Accuracy: 0.2204\n"
     ]
    }
   ],
   "source": [
    "def evaluate_model(model, test_images, test_labels):\n",
    "    # Evaluate the model on the test set\n",
    "    return model.evaluate(test_images, test_labels)[1]\n",
    "\n",
    "# Evaluate each model after training\n",
    "vgg16_accuracy = evaluate_model(vgg16_history.model, test_images, test_labels)\n",
    "resnet50_accuracy = evaluate_model(resnet50_history.model, test_images, test_labels)\n",
    "mobilenet_accuracy = evaluate_model(mobilenet_history.model, test_images, test_labels)\n",
    "\n",
    "# Print out the accuracies\n",
    "print(f'VGG16 Accuracy: {vgg16_accuracy:.4f}')\n",
    "print(f'ResNet50 Accuracy: {resnet50_accuracy:.4f}')\n",
    "print(f'MobileNet Accuracy: {mobilenet_accuracy:.4f}')\n"
   ]
  },
  {
   "cell_type": "code",
   "execution_count": 15,
   "id": "5942192c-c077-49fe-891a-b7329bf2e163",
   "metadata": {},
   "outputs": [
    {
     "name": "stdout",
     "output_type": "stream",
     "text": [
      " 12/313 [>.............................] - ETA: 3s"
     ]
    },
    {
     "name": "stderr",
     "output_type": "stream",
     "text": [
      "2024-04-29 00:06:41.797219: I tensorflow/core/grappler/optimizers/custom_graph_optimizer_registry.cc:114] Plugin optimizer for device_type GPU is enabled.\n"
     ]
    },
    {
     "name": "stdout",
     "output_type": "stream",
     "text": [
      "313/313 [==============================] - 5s 16ms/step\n"
     ]
    },
    {
     "name": "stderr",
     "output_type": "stream",
     "text": [
      "2024-04-29 00:06:47.209896: I tensorflow/core/grappler/optimizers/custom_graph_optimizer_registry.cc:114] Plugin optimizer for device_type GPU is enabled.\n"
     ]
    },
    {
     "name": "stdout",
     "output_type": "stream",
     "text": [
      "313/313 [==============================] - 6s 18ms/step\n"
     ]
    },
    {
     "name": "stderr",
     "output_type": "stream",
     "text": [
      "2024-04-29 00:06:53.564280: I tensorflow/core/grappler/optimizers/custom_graph_optimizer_registry.cc:114] Plugin optimizer for device_type GPU is enabled.\n"
     ]
    },
    {
     "name": "stdout",
     "output_type": "stream",
     "text": [
      "313/313 [==============================] - 3s 9ms/step\n"
     ]
    }
   ],
   "source": [
    "from sklearn.metrics import accuracy_score, precision_score, recall_score, f1_score\n",
    "import numpy as np\n",
    "\n",
    "def get_metrics(model, test_images, test_labels):\n",
    "    # Predict the labels for the test set\n",
    "    predictions = model.predict(test_images)\n",
    "    predictions = np.argmax(predictions, axis=1)\n",
    "    true_labels = np.argmax(test_labels, axis=1)\n",
    "    \n",
    "    # Calculate metrics\n",
    "    accuracy = accuracy_score(true_labels, predictions)\n",
    "    precision = precision_score(true_labels, predictions, average='macro')\n",
    "    recall = recall_score(true_labels, predictions, average='macro')\n",
    "    f1 = f1_score(true_labels, predictions, average='macro')\n",
    "    \n",
    "    return accuracy, precision, recall, f1\n",
    "\n",
    "# Example of obtaining metrics for one model\n",
    "vgg16_metrics = get_metrics(vgg16_history.model, test_images, test_labels)\n",
    "resnet50_metrics = get_metrics(resnet50_history.model, test_images, test_labels)\n",
    "mobilenet_metrics = get_metrics(mobilenet_history.model, test_images, test_labels)\n"
   ]
  },
  {
   "cell_type": "code",
   "execution_count": 16,
   "id": "9661766b-9c14-4ef0-97f5-69b489bb061d",
   "metadata": {},
   "outputs": [
    {
     "data": {
      "image/png": "[encoded data removed]",
      "text/plain": [
       "<Figure size 640x480 with 1 Axes>"
      ]
     },
     "metadata": {},
     "output_type": "display_data"
    }
   ],
   "source": [
    "import matplotlib.pyplot as plt\n",
    "\n",
    "# Metrics for each model\n",
    "metrics = {\n",
    "    'VGG16': vgg16_metrics,\n",
    "    'ResNet50': resnet50_metrics,\n",
    "    'MobileNet': mobilenet_metrics\n",
    "}\n",
    "\n",
    "# Metric names\n",
    "metric_names = ['Accuracy', 'Precision', 'Recall', 'F1 Score']\n",
    "\n",
    "# Setting up the bar plot\n",
    "fig, ax = plt.subplots()\n",
    "n_groups = len(metrics)\n",
    "index = np.arange(n_groups)\n",
    "bar_width = 0.2\n",
    "\n",
    "# Plotting each metric\n",
    "for i, metric_name in enumerate(metric_names):\n",
    "    ax.bar(index + i * bar_width, [metrics[model][i] for model in metrics], bar_width, label=metric_name)\n",
    "\n",
    "# Adding labels and title\n",
    "ax.set_xlabel('Models')\n",
    "ax.set_ylabel('Scores')\n",
    "ax.set_title('Performance Metrics Comparison')\n",
    "ax.set_xticks(index + bar_width)\n",
    "ax.set_xticklabels(metrics.keys())\n",
    "ax.legend()\n",
    "\n",
    "# Showing the plot\n",
    "plt.show()\n"
   ]
  },
  {
   "cell_type": "code",
   "execution_count": null,
   "id": "c937483b-4ff5-4a80-8a65-8dd50bf1d26a",
   "metadata": {},
   "outputs": [],
   "source": []
  }
 ],
 "metadata": {
  "kernelspec": {
   "display_name": "Python (tf_env)",
   "language": "python",
   "name": "tf_env"
  },
  "language_info": {
   "codemirror_mode": {
    "name": "ipython",
    "version": 3
   },
   "file_extension": ".py",
   "mimetype": "text/x-python",
   "name": "python",
   "nbconvert_exporter": "python",
   "pygments_lexer": "ipython3",
   "version": "3.8.18"
  }
 },
 "nbformat": 4,
 "nbformat_minor": 5
}
