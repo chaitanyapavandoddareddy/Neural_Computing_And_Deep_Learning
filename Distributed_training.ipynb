{
 "cells": [
  {
   "cell_type": "markdown",
   "metadata": {
    "id": "BAfJCaULD2Yp"
   },
   "source": [
    "# Distributed Training of Neural Network Models\n",
    "\n",
    "\n",
    "Below is the basic implementation of Federated Learning code for 2 clients and a server for one communication round using the MNIST dataset.\n",
    "\n",
    "Your task for this lab is to utilize this code as a benchmark and accomplish  the following objectives:\n",
    "\n",
    "1. Comment each section of the code to understand its functionality.\n",
    "\n",
    "2. Experiment with different neural network architectures, varying the number of layers and activation functions\n",
    "\n",
    "3. Assess the model's performance (accuracy, precision, recall, and f-score) as the number of clients changes. Utilize 2, 4, 6, 8, and 10 clients, and plot a graph illustrating the model's performance across varying client counts.\n",
    "\n",
    "4. Introduce one dishonest client for a any sepcific number of clients of your choice. For this client, assign some training labels ('y_train') to a specific label, such as '4'. Analyze how the performance ((accuracy, precision, recall, and f-score)) of the global model is affected by the presence of a dishonest client. Find approximately how many labels need to be maliciously altered so that the performance degrades."
   ]
  },
  {
   "cell_type": "markdown",
   "metadata": {
    "colab": {
     "base_uri": "https://localhost:8080/"
    },
    "id": "P_GFzZjxRR5O",
    "outputId": "7d47895d-cc75-4518-8f0e-aa0fdedb7714"
   },
   "source": [
    "import numpy as np\n",
    "import tensorflow as tf\n",
    "from tensorflow.keras.datasets import mnist\n",
    "from tensorflow.keras.models import Sequential\n",
    "from tensorflow.keras.layers import Dense, Flatten\n",
    "from tensorflow.keras.optimizers import SGD\n",
    "from sklearn.model_selection import train_test_split\n",
    "from keras import backend as K\n",
    "import random\n",
    "\n",
    "\n",
    "np.random.seed(42) # Set seed for numpy. Put your SID instead of number '42'\n",
    "random.seed(42) # Set seed for Python's built-in random number generator.  Put your SID instead of number '42'\n",
    "tf.random.set_seed(42) # Set seed for TensorFlow. Put your SID instead of number '42'\n",
    "K.clear_session()\n",
    "\n",
    "\n",
    "# Load MNIST dataset\n",
    "(x_train, y_train), (x_test, y_test) = mnist.load_data()\n",
    "\n",
    "# Normalize and reshape data\n",
    "x_train = x_train.astype('float32') / 255.0\n",
    "x_test = x_test.astype('float32') / 255.0\n",
    "x_train = np.expand_dims(x_train, -1)\n",
    "x_test = np.expand_dims(x_test, -1)\n",
    "\n",
    "# Define client functions\n",
    "def create_client_model():\n",
    "    model = Sequential([\n",
    "        Flatten(input_shape=(28, 28, 1)),\n",
    "        Dense(128, activation='relu'),\n",
    "        Dense(10, activation='softmax')\n",
    "    ])\n",
    "    model.compile(optimizer='adam', loss='sparse_categorical_crossentropy', metrics=['accuracy'])\n",
    "    return model\n",
    "\n",
    "def train_client_model(model, x_train, y_train, epochs=5):\n",
    "    model.fit(x_train, y_train, epochs=epochs, verbose=0)\n",
    "    return model\n",
    "\n",
    "# Split data into two clients\n",
    "x_train_c1, x_train_c2, y_train_c1, y_train_c2 = train_test_split(x_train, y_train, test_size=0.5, random_state=42)\n",
    "\n",
    "# Create and train client models\n",
    "client1_model = create_client_model()\n",
    "client2_model = create_client_model()\n",
    "\n",
    "client1_model = train_client_model(client1_model, x_train_c1, y_train_c1)\n",
    "client2_model = train_client_model(client2_model, x_train_c2, y_train_c2)\n",
    "\n",
    "# Federated averaging\n",
    "def federated_average_weights(weights1, weights2):\n",
    "    new_weights = []\n",
    "    for w1, w2 in zip(weights1, weights2):\n",
    "        new_weights.append((w1 + w2) / 2)\n",
    "    return new_weights\n",
    "\n",
    "# Aggregate models\n",
    "aggregated_weights = federated_average_weights(client1_model.get_weights(), client2_model.get_weights())\n",
    "\n",
    "# Create global model and set weights\n",
    "global_model = create_client_model()\n",
    "global_model.set_weights(aggregated_weights)\n",
    "\n",
    "# Evaluate global model\n",
    "test_loss, test_acc = global_model.evaluate(x_test, y_test, verbose=2)\n",
    "print('Test accuracy:', test_acc)\n",
    "\n",
    "\n",
    "##\n",
    "##\n",
    "## Write your code to calculate precision, recall, and F-score\n",
    "##\n",
    "##\n"
   ]
  },
  {
   "cell_type": "code",
   "execution_count": 1,
   "metadata": {},
   "outputs": [],
   "source": [
    "import numpy as np\n",
    "import tensorflow as tf\n",
    "from tensorflow.keras.datasets import mnist\n",
    "from tensorflow.keras.models import Sequential\n",
    "from tensorflow.keras.layers import Dense, Flatten\n",
    "from tensorflow.keras.optimizers import SGD\n",
    "from sklearn.model_selection import train_test_split\n",
    "from keras import backend as K\n",
    "import random"
   ]
  },
  {
   "cell_type": "code",
   "execution_count": 2,
   "metadata": {},
   "outputs": [],
   "source": [
    "np.random.seed(1940407) # Set seed for numpy. Put your SID instead of number '42'\n",
    "random.seed(1940407) # Set seed for Python's built-in random number generator.  Put your SID instead of number '42'\n",
    "tf.random.set_seed(1940407) # Set seed for TensorFlow. Put your SID instead of number '42'\n",
    "K.clear_session()"
   ]
  },
  {
   "cell_type": "code",
   "execution_count": 3,
   "metadata": {},
   "outputs": [],
   "source": [
    "# Load MNIST dataset\n",
    "(x_train, y_train), (x_test, y_test) = mnist.load_data()"
   ]
  },
  {
   "cell_type": "code",
   "execution_count": 4,
   "metadata": {},
   "outputs": [],
   "source": [
    "# Normalize and reshape data\n",
    "x_train = x_train.astype('float32') / 255.0\n",
    "x_test = x_test.astype('float32') / 255.0\n",
    "x_train = np.expand_dims(x_train, -1)\n",
    "x_test = np.expand_dims(x_test, -1)"
   ]
  },
  {
   "cell_type": "code",
   "execution_count": 5,
   "metadata": {},
   "outputs": [],
   "source": [
    "# Define client functions\n",
    "def create_client_model():\n",
    "    model = Sequential([\n",
    "        Flatten(input_shape=(28, 28, 1)),\n",
    "        Dense(128, activation='relu'),\n",
    "        Dense(10, activation='softmax')\n",
    "    ])\n",
    "    model.compile(optimizer='adam', loss='sparse_categorical_crossentropy', metrics=['accuracy'])\n",
    "    return model\n"
   ]
  },
  {
   "cell_type": "code",
   "execution_count": 6,
   "metadata": {},
   "outputs": [],
   "source": [
    "def train_client_model(model, x_train, y_train, epochs=5):\n",
    "    model.fit(x_train, y_train, epochs=epochs, verbose=1)\n",
    "    return model"
   ]
  },
  {
   "cell_type": "markdown",
   "metadata": {},
   "source": [
    "## 2 Clients"
   ]
  },
  {
   "cell_type": "code",
   "execution_count": 7,
   "metadata": {},
   "outputs": [],
   "source": [
    "# Split data into two clients\n",
    "x_train_c1, x_train_c2, y_train_c1, y_train_c2 = train_test_split(x_train, y_train, test_size=0.5, random_state=1940407)"
   ]
  },
  {
   "cell_type": "code",
   "execution_count": 8,
   "metadata": {},
   "outputs": [
    {
     "name": "stderr",
     "output_type": "stream",
     "text": [
      "2024-03-22 14:32:12.278598: I metal_plugin/src/device/metal_device.cc:1154] Metal device set to: Apple M1 Pro\n",
      "2024-03-22 14:32:12.278623: I metal_plugin/src/device/metal_device.cc:296] systemMemory: 16.00 GB\n",
      "2024-03-22 14:32:12.278628: I metal_plugin/src/device/metal_device.cc:313] maxCacheSize: 5.33 GB\n",
      "2024-03-22 14:32:12.278659: I tensorflow/core/common_runtime/pluggable_device/pluggable_device_factory.cc:303] Could not identify NUMA node of platform GPU ID 0, defaulting to 0. Your kernel may not have been built with NUMA support.\n",
      "2024-03-22 14:32:12.278675: I tensorflow/core/common_runtime/pluggable_device/pluggable_device_factory.cc:269] Created TensorFlow device (/job:localhost/replica:0/task:0/device:GPU:0 with 0 MB memory) -> physical PluggableDevice (device: 0, name: METAL, pci bus id: <undefined>)\n"
     ]
    }
   ],
   "source": [
    "# Create and train client models\n",
    "client1_model = create_client_model()\n",
    "client2_model = create_client_model()"
   ]
  },
  {
   "cell_type": "code",
   "execution_count": 9,
   "metadata": {},
   "outputs": [
    {
     "name": "stdout",
     "output_type": "stream",
     "text": [
      "Epoch 1/5\n",
      " 12/938 [..............................] - ETA: 4s - loss: 1.8875 - accuracy: 0.3828  "
     ]
    },
    {
     "name": "stderr",
     "output_type": "stream",
     "text": [
      "2024-03-22 14:32:12.576372: I tensorflow/core/grappler/optimizers/custom_graph_optimizer_registry.cc:114] Plugin optimizer for device_type GPU is enabled.\n"
     ]
    },
    {
     "name": "stdout",
     "output_type": "stream",
     "text": [
      "938/938 [==============================] - 5s 5ms/step - loss: 0.4077 - accuracy: 0.8835\n",
      "Epoch 2/5\n",
      "938/938 [==============================] - 4s 4ms/step - loss: 0.3094 - accuracy: 0.9120\n",
      "Epoch 3/5\n",
      "938/938 [==============================] - 4s 4ms/step - loss: 0.2999 - accuracy: 0.9163\n",
      "Epoch 4/5\n",
      "938/938 [==============================] - 4s 4ms/step - loss: 0.2946 - accuracy: 0.9182\n",
      "Epoch 5/5\n",
      "938/938 [==============================] - 4s 4ms/step - loss: 0.2993 - accuracy: 0.9175\n",
      "Epoch 1/5\n",
      " 24/938 [..............................] - ETA: 4s - loss: 1.5556 - accuracy: 0.5352"
     ]
    },
    {
     "name": "stderr",
     "output_type": "stream",
     "text": [
      "2024-03-22 14:32:33.700529: I tensorflow/core/grappler/optimizers/custom_graph_optimizer_registry.cc:114] Plugin optimizer for device_type GPU is enabled.\n"
     ]
    },
    {
     "name": "stdout",
     "output_type": "stream",
     "text": [
      "938/938 [==============================] - 4s 4ms/step - loss: 0.4084 - accuracy: 0.8841\n",
      "Epoch 2/5\n",
      "938/938 [==============================] - 4s 4ms/step - loss: 0.3074 - accuracy: 0.9138\n",
      "Epoch 3/5\n",
      "938/938 [==============================] - 4s 4ms/step - loss: 0.2992 - accuracy: 0.9159\n",
      "Epoch 4/5\n",
      "938/938 [==============================] - 4s 4ms/step - loss: 0.2979 - accuracy: 0.9154\n",
      "Epoch 5/5\n",
      "938/938 [==============================] - 4s 5ms/step - loss: 0.2974 - accuracy: 0.9179\n"
     ]
    }
   ],
   "source": [
    "client1_model = train_client_model(client1_model, x_train_c1, y_train_c1)\n",
    "client2_model = train_client_model(client2_model, x_train_c2, y_train_c2)"
   ]
  },
  {
   "cell_type": "code",
   "execution_count": 10,
   "metadata": {},
   "outputs": [],
   "source": [
    "# Federated averaging\n",
    "def federated_average_weights(weights1, weights2):\n",
    "    new_weights = []\n",
    "    for w1, w2 in zip(weights1, weights2):\n",
    "        new_weights.append((w1 + w2) / 2)\n",
    "    return new_weights"
   ]
  },
  {
   "cell_type": "code",
   "execution_count": 11,
   "metadata": {},
   "outputs": [],
   "source": [
    "# Aggregate models\n",
    "aggregated_weights = federated_average_weights(client1_model.get_weights(), client2_model.get_weights())"
   ]
  },
  {
   "cell_type": "code",
   "execution_count": 12,
   "metadata": {},
   "outputs": [],
   "source": [
    "# Create global model and set weights\n",
    "global_model = create_client_model()\n",
    "global_model.set_weights(aggregated_weights)"
   ]
  },
  {
   "cell_type": "code",
   "execution_count": 13,
   "metadata": {},
   "outputs": [
    {
     "name": "stderr",
     "output_type": "stream",
     "text": [
      "2024-03-22 14:32:54.698451: I tensorflow/core/grappler/optimizers/custom_graph_optimizer_registry.cc:114] Plugin optimizer for device_type GPU is enabled.\n"
     ]
    },
    {
     "name": "stdout",
     "output_type": "stream",
     "text": [
      "313/313 - 1s - loss: 0.9685 - accuracy: 0.6866 - 1s/epoch - 3ms/step\n",
      "Test accuracy: 0.6866000294685364\n"
     ]
    }
   ],
   "source": [
    "# Evaluate global model\n",
    "test_loss, test_acc = global_model.evaluate(x_test, y_test, verbose=2)\n",
    "print('Test accuracy:', test_acc)"
   ]
  },
  {
   "cell_type": "code",
   "execution_count": 14,
   "metadata": {},
   "outputs": [
    {
     "name": "stdout",
     "output_type": "stream",
     "text": [
      "117/313 [==========>...................] - ETA: 0s"
     ]
    },
    {
     "name": "stderr",
     "output_type": "stream",
     "text": [
      "2024-03-22 14:32:55.771010: I tensorflow/core/grappler/optimizers/custom_graph_optimizer_registry.cc:114] Plugin optimizer for device_type GPU is enabled.\n"
     ]
    },
    {
     "name": "stdout",
     "output_type": "stream",
     "text": [
      "313/313 [==============================] - 0s 1ms/step\n",
      "(10000, 10)\n"
     ]
    }
   ],
   "source": [
    "prediction = global_model.predict(x_test)\n",
    "print(prediction.shape)"
   ]
  },
  {
   "cell_type": "code",
   "execution_count": 15,
   "metadata": {},
   "outputs": [],
   "source": [
    "prediction = list(prediction.argmax(axis=1))"
   ]
  },
  {
   "cell_type": "code",
   "execution_count": 16,
   "metadata": {},
   "outputs": [],
   "source": [
    "from sklearn.metrics import classification_report, accuracy_score, precision_score, recall_score, f1_score"
   ]
  },
  {
   "cell_type": "code",
   "execution_count": 17,
   "metadata": {},
   "outputs": [
    {
     "data": {
      "text/plain": [
       "'              precision    recall  f1-score   support\\n\\n           0       0.90      0.90      0.90       980\\n           1       0.94      0.56      0.70      1135\\n           2       0.36      0.58      0.44      1032\\n           3       0.87      0.62      0.72      1010\\n           4       0.85      0.93      0.89       982\\n           5       0.70      0.65      0.67       892\\n           6       0.86      0.40      0.55       958\\n           7       0.91      0.79      0.85      1028\\n           8       0.39      0.69      0.50       974\\n           9       0.78      0.76      0.77      1009\\n\\n    accuracy                           0.69     10000\\n   macro avg       0.75      0.69      0.70     10000\\nweighted avg       0.76      0.69      0.70     10000\\n'"
      ]
     },
     "execution_count": 17,
     "metadata": {},
     "output_type": "execute_result"
    }
   ],
   "source": [
    "classification_report(y_test, prediction)"
   ]
  },
  {
   "cell_type": "code",
   "execution_count": 18,
   "metadata": {},
   "outputs": [
    {
     "name": "stdout",
     "output_type": "stream",
     "text": [
      "Accuracy score:  0.6866\n",
      "Precision score:  0.756782028541091\n",
      "Recall Score:  0.6866\n",
      "F1 Score:  0.6986065860341957\n"
     ]
    }
   ],
   "source": [
    "print(\"Accuracy score: \", accuracy_score(y_test, prediction))\n",
    "print(\"Precision score: \", precision_score(y_test, prediction,average='weighted'))\n",
    "print(\"Recall Score: \", recall_score(y_test, prediction,average='weighted'))\n",
    "print(\"F1 Score: \",f1_score(y_test, prediction,average='weighted'))\n",
    "\n",
    "Clients_2_Scores = [accuracy_score(y_test, prediction), precision_score(y_test, prediction,average='weighted'), recall_score(y_test, prediction,average='weighted'), f1_score(y_test, prediction,average='weighted')]"
   ]
  },
  {
   "cell_type": "markdown",
   "metadata": {},
   "source": [
    "## 4 Clients"
   ]
  },
  {
   "cell_type": "code",
   "execution_count": 19,
   "metadata": {},
   "outputs": [],
   "source": [
    "x_train_c1, x_train_c2, y_train_c1, y_train_c2 = train_test_split(x_train, y_train, test_size=0.5, random_state=1940407)\n",
    "\n",
    "x_train_c1, x_train_c2, y_train_c1, y_train_c2 = train_test_split(x_train_c1, y_train_c1, test_size=0.5, random_state=1940407)\n",
    "x_train_c3, x_train_c4, y_train_c3, y_train_c4 = train_test_split(x_train_c2, y_train_c2, test_size=0.5, random_state=1940407)\n",
    "\n",
    "\n"
   ]
  },
  {
   "cell_type": "code",
   "execution_count": 20,
   "metadata": {},
   "outputs": [],
   "source": [
    "client1_model = create_client_model()\n",
    "client2_model = create_client_model()\n",
    "client3_model = create_client_model()\n",
    "client4_model = create_client_model()"
   ]
  },
  {
   "cell_type": "code",
   "execution_count": 21,
   "metadata": {
    "scrolled": true
   },
   "outputs": [
    {
     "name": "stdout",
     "output_type": "stream",
     "text": [
      "Epoch 1/5\n",
      " 23/469 [>.............................] - ETA: 2s - loss: 1.5541 - accuracy: 0.5204"
     ]
    },
    {
     "name": "stderr",
     "output_type": "stream",
     "text": [
      "2024-03-22 14:32:56.572186: I tensorflow/core/grappler/optimizers/custom_graph_optimizer_registry.cc:114] Plugin optimizer for device_type GPU is enabled.\n"
     ]
    },
    {
     "name": "stdout",
     "output_type": "stream",
     "text": [
      "469/469 [==============================] - 2s 5ms/step - loss: 0.4794 - accuracy: 0.8633\n",
      "Epoch 2/5\n",
      "469/469 [==============================] - 2s 4ms/step - loss: 0.3137 - accuracy: 0.9099\n",
      "Epoch 3/5\n",
      "469/469 [==============================] - 2s 5ms/step - loss: 0.2925 - accuracy: 0.9169\n",
      "Epoch 4/5\n",
      "469/469 [==============================] - 2s 5ms/step - loss: 0.2839 - accuracy: 0.9189\n",
      "Epoch 5/5\n",
      "469/469 [==============================] - 2s 4ms/step - loss: 0.2722 - accuracy: 0.9228\n",
      "Epoch 1/5\n",
      " 24/469 [>.............................] - ETA: 2s - loss: 1.6744 - accuracy: 0.4701"
     ]
    },
    {
     "name": "stderr",
     "output_type": "stream",
     "text": [
      "2024-03-22 14:33:07.361594: I tensorflow/core/grappler/optimizers/custom_graph_optimizer_registry.cc:114] Plugin optimizer for device_type GPU is enabled.\n"
     ]
    },
    {
     "name": "stdout",
     "output_type": "stream",
     "text": [
      "469/469 [==============================] - 2s 4ms/step - loss: 0.4952 - accuracy: 0.8555\n",
      "Epoch 2/5\n",
      "469/469 [==============================] - 2s 4ms/step - loss: 0.3113 - accuracy: 0.9112\n",
      "Epoch 3/5\n",
      "469/469 [==============================] - 2s 4ms/step - loss: 0.2915 - accuracy: 0.9182\n",
      "Epoch 4/5\n",
      "469/469 [==============================] - 2s 4ms/step - loss: 0.2787 - accuracy: 0.9177\n",
      "Epoch 5/5\n",
      "469/469 [==============================] - 2s 4ms/step - loss: 0.2704 - accuracy: 0.9208\n",
      "Epoch 1/5\n",
      " 25/235 [==>...........................] - ETA: 0s - loss: 1.5523 - accuracy: 0.5537"
     ]
    },
    {
     "name": "stderr",
     "output_type": "stream",
     "text": [
      "2024-03-22 14:33:17.763236: I tensorflow/core/grappler/optimizers/custom_graph_optimizer_registry.cc:114] Plugin optimizer for device_type GPU is enabled.\n"
     ]
    },
    {
     "name": "stdout",
     "output_type": "stream",
     "text": [
      "235/235 [==============================] - 1s 4ms/step - loss: 0.6138 - accuracy: 0.8253\n",
      "Epoch 2/5\n",
      "235/235 [==============================] - 1s 4ms/step - loss: 0.3485 - accuracy: 0.9003\n",
      "Epoch 3/5\n",
      "235/235 [==============================] - 1s 4ms/step - loss: 0.3051 - accuracy: 0.9132\n",
      "Epoch 4/5\n",
      "235/235 [==============================] - 1s 5ms/step - loss: 0.2828 - accuracy: 0.9209\n",
      "Epoch 5/5\n",
      "235/235 [==============================] - 1s 5ms/step - loss: 0.2630 - accuracy: 0.9247\n",
      "Epoch 1/5\n",
      " 23/235 [=>............................] - ETA: 1s - loss: 1.5807 - accuracy: 0.5299"
     ]
    },
    {
     "name": "stderr",
     "output_type": "stream",
     "text": [
      "2024-03-22 14:33:23.293161: I tensorflow/core/grappler/optimizers/custom_graph_optimizer_registry.cc:114] Plugin optimizer for device_type GPU is enabled.\n"
     ]
    },
    {
     "name": "stdout",
     "output_type": "stream",
     "text": [
      "235/235 [==============================] - 1s 5ms/step - loss: 0.5876 - accuracy: 0.8327\n",
      "Epoch 2/5\n",
      "235/235 [==============================] - 1s 4ms/step - loss: 0.3220 - accuracy: 0.9097\n",
      "Epoch 3/5\n",
      "235/235 [==============================] - 1s 4ms/step - loss: 0.2864 - accuracy: 0.9200\n",
      "Epoch 4/5\n",
      "235/235 [==============================] - 1s 5ms/step - loss: 0.2613 - accuracy: 0.9268\n",
      "Epoch 5/5\n",
      "235/235 [==============================] - 1s 5ms/step - loss: 0.2472 - accuracy: 0.9312\n"
     ]
    }
   ],
   "source": [
    "client1_model = train_client_model(client1_model, x_train_c1, y_train_c1)\n",
    "client2_model = train_client_model(client2_model, x_train_c2, y_train_c2)\n",
    "client3_model = train_client_model(client3_model, x_train_c3, y_train_c3)\n",
    "client4_model = train_client_model(client4_model, x_train_c4, y_train_c4)"
   ]
  },
  {
   "cell_type": "code",
   "execution_count": 22,
   "metadata": {},
   "outputs": [],
   "source": [
    "# Federated averaging\n",
    "def federated_average_weights_4_Clients(weights1, weights2, weights3, weights4):\n",
    "    new_weights = []\n",
    "    for w1, w2, w3, w4 in zip(weights1, weights2, weights3, weights4):\n",
    "        new_weights.append((w1 + w2 + w3 + w4) / 4)\n",
    "    return new_weights"
   ]
  },
  {
   "cell_type": "code",
   "execution_count": 23,
   "metadata": {},
   "outputs": [],
   "source": [
    "# Aggregate models\n",
    "aggregated_weights = federated_average_weights_4_Clients(client1_model.get_weights(), \n",
    "                                               client2_model.get_weights(), \n",
    "                                               client3_model.get_weights(), \n",
    "                                               client4_model.get_weights())"
   ]
  },
  {
   "cell_type": "code",
   "execution_count": 24,
   "metadata": {},
   "outputs": [],
   "source": [
    "# Create global model and set weights\n",
    "global_model = create_client_model()\n",
    "global_model.set_weights(aggregated_weights)"
   ]
  },
  {
   "cell_type": "code",
   "execution_count": 25,
   "metadata": {},
   "outputs": [
    {
     "name": "stderr",
     "output_type": "stream",
     "text": [
      "2024-03-22 14:33:28.908191: I tensorflow/core/grappler/optimizers/custom_graph_optimizer_registry.cc:114] Plugin optimizer for device_type GPU is enabled.\n"
     ]
    },
    {
     "name": "stdout",
     "output_type": "stream",
     "text": [
      "313/313 - 1s - loss: 0.9121 - accuracy: 0.7553 - 1s/epoch - 3ms/step\n",
      "Test accuracy: 0.755299985408783\n"
     ]
    }
   ],
   "source": [
    "# Evaluate global model\n",
    "test_loss, test_acc = global_model.evaluate(x_test, y_test, verbose=2)\n",
    "print('Test accuracy:', test_acc)"
   ]
  },
  {
   "cell_type": "code",
   "execution_count": 26,
   "metadata": {},
   "outputs": [
    {
     "name": "stdout",
     "output_type": "stream",
     "text": [
      "120/313 [==========>...................] - ETA: 0s"
     ]
    },
    {
     "name": "stderr",
     "output_type": "stream",
     "text": [
      "2024-03-22 14:33:29.926019: I tensorflow/core/grappler/optimizers/custom_graph_optimizer_registry.cc:114] Plugin optimizer for device_type GPU is enabled.\n"
     ]
    },
    {
     "name": "stdout",
     "output_type": "stream",
     "text": [
      "313/313 [==============================] - 0s 1ms/step\n"
     ]
    }
   ],
   "source": [
    "prediction = global_model.predict(x_test)\n",
    "prediction = list(prediction.argmax(axis=1))"
   ]
  },
  {
   "cell_type": "code",
   "execution_count": 27,
   "metadata": {},
   "outputs": [
    {
     "name": "stdout",
     "output_type": "stream",
     "text": [
      "Accuracy score:  0.7553\n",
      "Precision score:  0.7764296169650438\n",
      "Recall Score:  0.7553\n",
      "F1 Score:  0.7392733585387776\n"
     ]
    }
   ],
   "source": [
    "print(\"Accuracy score: \", accuracy_score(y_test, prediction))\n",
    "print(\"Precision score: \", precision_score(y_test, prediction,average='weighted'))\n",
    "print(\"Recall Score: \", recall_score(y_test, prediction,average='weighted'))\n",
    "print(\"F1 Score: \",f1_score(y_test, prediction,average='weighted'))\n",
    "\n",
    "\n",
    "Clients_4_Scores = [accuracy_score(y_test, prediction), precision_score(y_test, prediction,average='weighted'), recall_score(y_test, prediction,average='weighted'), f1_score(y_test, prediction,average='weighted')]"
   ]
  },
  {
   "cell_type": "markdown",
   "metadata": {},
   "source": [
    "## 6 Clients"
   ]
  },
  {
   "cell_type": "code",
   "execution_count": null,
   "metadata": {},
   "outputs": [],
   "source": []
  },
  {
   "cell_type": "code",
   "execution_count": 28,
   "metadata": {},
   "outputs": [],
   "source": [
    "x_train_c1= x_train[0:10000]\n",
    "x_train_c2= x_train[10000: 20000]\n",
    "x_train_c3= x_train[20000: 30000]\n",
    "x_train_c4= x_train[30000: 40000]\n",
    "x_train_c5= x_train[40000: 50000]\n",
    "x_train_c6= x_train[50000:]\n",
    "y_train_c1= y_train[0:10000]\n",
    "y_train_c2= y_train[10000: 20000]\n",
    "y_train_c3= y_train[20000: 30000]\n",
    "y_train_c4= y_train[30000: 40000]\n",
    "y_train_c5= y_train[40000: 50000]\n",
    "y_train_c6= y_train[50000:]"
   ]
  },
  {
   "cell_type": "code",
   "execution_count": 29,
   "metadata": {},
   "outputs": [],
   "source": [
    "client1_model = create_client_model()\n",
    "client2_model = create_client_model()\n",
    "client3_model = create_client_model()\n",
    "client4_model = create_client_model()\n",
    "client5_model = create_client_model()\n",
    "client6_model = create_client_model()"
   ]
  },
  {
   "cell_type": "code",
   "execution_count": 30,
   "metadata": {
    "scrolled": true
   },
   "outputs": [
    {
     "name": "stdout",
     "output_type": "stream",
     "text": [
      "Epoch 1/5\n",
      " 23/313 [=>............................] - ETA: 1s - loss: 1.6480 - accuracy: 0.4959"
     ]
    },
    {
     "name": "stderr",
     "output_type": "stream",
     "text": [
      "2024-03-22 14:33:30.624046: I tensorflow/core/grappler/optimizers/custom_graph_optimizer_registry.cc:114] Plugin optimizer for device_type GPU is enabled.\n"
     ]
    },
    {
     "name": "stdout",
     "output_type": "stream",
     "text": [
      "313/313 [==============================] - 2s 5ms/step - loss: 0.5467 - accuracy: 0.8434\n",
      "Epoch 2/5\n",
      "313/313 [==============================] - 1s 4ms/step - loss: 0.3099 - accuracy: 0.9122\n",
      "Epoch 3/5\n",
      "313/313 [==============================] - 1s 4ms/step - loss: 0.2758 - accuracy: 0.9232\n",
      "Epoch 4/5\n",
      "313/313 [==============================] - 1s 5ms/step - loss: 0.2609 - accuracy: 0.9261\n",
      "Epoch 5/5\n",
      "313/313 [==============================] - 1s 4ms/step - loss: 0.2470 - accuracy: 0.9295\n",
      "Epoch 1/5\n",
      " 24/313 [=>............................] - ETA: 1s - loss: 1.6470 - accuracy: 0.5143"
     ]
    },
    {
     "name": "stderr",
     "output_type": "stream",
     "text": [
      "2024-03-22 14:33:37.803083: I tensorflow/core/grappler/optimizers/custom_graph_optimizer_registry.cc:114] Plugin optimizer for device_type GPU is enabled.\n"
     ]
    },
    {
     "name": "stdout",
     "output_type": "stream",
     "text": [
      "313/313 [==============================] - 2s 5ms/step - loss: 0.5627 - accuracy: 0.8373\n",
      "Epoch 2/5\n",
      "313/313 [==============================] - 1s 4ms/step - loss: 0.3253 - accuracy: 0.9046\n",
      "Epoch 3/5\n",
      "313/313 [==============================] - 1s 4ms/step - loss: 0.2939 - accuracy: 0.9158\n",
      "Epoch 4/5\n",
      "313/313 [==============================] - 1s 4ms/step - loss: 0.2728 - accuracy: 0.9211\n",
      "Epoch 5/5\n",
      "313/313 [==============================] - 1s 4ms/step - loss: 0.2605 - accuracy: 0.9259\n",
      "Epoch 1/5\n",
      " 25/313 [=>............................] - ETA: 1s - loss: 1.5899 - accuracy: 0.5113"
     ]
    },
    {
     "name": "stderr",
     "output_type": "stream",
     "text": [
      "2024-03-22 14:33:44.887501: I tensorflow/core/grappler/optimizers/custom_graph_optimizer_registry.cc:114] Plugin optimizer for device_type GPU is enabled.\n"
     ]
    },
    {
     "name": "stdout",
     "output_type": "stream",
     "text": [
      "313/313 [==============================] - 2s 4ms/step - loss: 0.5569 - accuracy: 0.8374\n",
      "Epoch 2/5\n",
      "313/313 [==============================] - 1s 4ms/step - loss: 0.3145 - accuracy: 0.9085\n",
      "Epoch 3/5\n",
      "313/313 [==============================] - 1s 4ms/step - loss: 0.2857 - accuracy: 0.9176\n",
      "Epoch 4/5\n",
      "313/313 [==============================] - 1s 4ms/step - loss: 0.2707 - accuracy: 0.9242\n",
      "Epoch 5/5\n",
      "313/313 [==============================] - 1s 4ms/step - loss: 0.2593 - accuracy: 0.9243\n",
      "Epoch 1/5\n",
      " 25/313 [=>............................] - ETA: 1s - loss: 1.5875 - accuracy: 0.4988"
     ]
    },
    {
     "name": "stderr",
     "output_type": "stream",
     "text": [
      "2024-03-22 14:33:51.903008: I tensorflow/core/grappler/optimizers/custom_graph_optimizer_registry.cc:114] Plugin optimizer for device_type GPU is enabled.\n"
     ]
    },
    {
     "name": "stdout",
     "output_type": "stream",
     "text": [
      "313/313 [==============================] - 2s 4ms/step - loss: 0.5676 - accuracy: 0.8348\n",
      "Epoch 2/5\n",
      "313/313 [==============================] - 1s 4ms/step - loss: 0.3343 - accuracy: 0.9023\n",
      "Epoch 3/5\n",
      "313/313 [==============================] - 1s 4ms/step - loss: 0.3038 - accuracy: 0.9093\n",
      "Epoch 4/5\n",
      "313/313 [==============================] - 1s 4ms/step - loss: 0.2851 - accuracy: 0.9176\n",
      "Epoch 5/5\n",
      "313/313 [==============================] - 1s 4ms/step - loss: 0.2724 - accuracy: 0.9209\n",
      "Epoch 1/5\n",
      " 25/313 [=>............................] - ETA: 1s - loss: 1.5817 - accuracy: 0.5175"
     ]
    },
    {
     "name": "stderr",
     "output_type": "stream",
     "text": [
      "2024-03-22 14:33:58.902021: I tensorflow/core/grappler/optimizers/custom_graph_optimizer_registry.cc:114] Plugin optimizer for device_type GPU is enabled.\n"
     ]
    },
    {
     "name": "stdout",
     "output_type": "stream",
     "text": [
      "313/313 [==============================] - 2s 4ms/step - loss: 0.5660 - accuracy: 0.8353\n",
      "Epoch 2/5\n",
      "313/313 [==============================] - 1s 4ms/step - loss: 0.3313 - accuracy: 0.9049\n",
      "Epoch 3/5\n",
      "313/313 [==============================] - 1s 4ms/step - loss: 0.3058 - accuracy: 0.9103\n",
      "Epoch 4/5\n",
      "313/313 [==============================] - 1s 4ms/step - loss: 0.2805 - accuracy: 0.9169\n",
      "Epoch 5/5\n",
      "313/313 [==============================] - 1s 4ms/step - loss: 0.2684 - accuracy: 0.9201\n",
      "Epoch 1/5\n",
      " 21/313 [=>............................] - ETA: 1s - loss: 1.6280 - accuracy: 0.4985"
     ]
    },
    {
     "name": "stderr",
     "output_type": "stream",
     "text": [
      "2024-03-22 14:34:05.917754: I tensorflow/core/grappler/optimizers/custom_graph_optimizer_registry.cc:114] Plugin optimizer for device_type GPU is enabled.\n"
     ]
    },
    {
     "name": "stdout",
     "output_type": "stream",
     "text": [
      "313/313 [==============================] - 2s 5ms/step - loss: 0.5133 - accuracy: 0.8526\n",
      "Epoch 2/5\n",
      "313/313 [==============================] - 1s 5ms/step - loss: 0.2915 - accuracy: 0.9157\n",
      "Epoch 3/5\n",
      "313/313 [==============================] - 2s 5ms/step - loss: 0.2598 - accuracy: 0.9242\n",
      "Epoch 4/5\n",
      "313/313 [==============================] - 1s 5ms/step - loss: 0.2365 - accuracy: 0.9335\n",
      "Epoch 5/5\n",
      "313/313 [==============================] - 1s 5ms/step - loss: 0.2268 - accuracy: 0.9367\n"
     ]
    }
   ],
   "source": [
    "client1_model = train_client_model(client1_model, x_train_c1, y_train_c1)\n",
    "client2_model = train_client_model(client2_model, x_train_c2, y_train_c2)\n",
    "client3_model = train_client_model(client3_model, x_train_c3, y_train_c3)\n",
    "client4_model = train_client_model(client4_model, x_train_c4, y_train_c4)\n",
    "client5_model = train_client_model(client5_model, x_train_c5, y_train_c5)\n",
    "client6_model = train_client_model(client6_model, x_train_c6, y_train_c6)"
   ]
  },
  {
   "cell_type": "code",
   "execution_count": 31,
   "metadata": {},
   "outputs": [],
   "source": [
    "# Federated averaging\n",
    "def federated_average_weights_4_Clients(weights1, weights2, weights3, weights4, weights5, weights6):\n",
    "    new_weights = []\n",
    "    for w1, w2, w3, w4, w5, w6 in zip(weights1, weights2, weights3, weights4, weights5, weights6):\n",
    "        new_weights.append((w1 + w2 + w3 + w4 + w5 + w6) / 6)\n",
    "    return new_weights"
   ]
  },
  {
   "cell_type": "code",
   "execution_count": 32,
   "metadata": {},
   "outputs": [],
   "source": [
    "# Aggregate models\n",
    "aggregated_weights = federated_average_weights_4_Clients(client1_model.get_weights(), \n",
    "                                               client2_model.get_weights(), \n",
    "                                               client3_model.get_weights(), \n",
    "                                               client4_model.get_weights(),\n",
    "                                               client5_model.get_weights(), \n",
    "                                               client6_model.get_weights())"
   ]
  },
  {
   "cell_type": "code",
   "execution_count": 33,
   "metadata": {},
   "outputs": [
    {
     "name": "stderr",
     "output_type": "stream",
     "text": [
      "2024-03-22 14:34:13.613917: I tensorflow/core/grappler/optimizers/custom_graph_optimizer_registry.cc:114] Plugin optimizer for device_type GPU is enabled.\n"
     ]
    },
    {
     "name": "stdout",
     "output_type": "stream",
     "text": [
      "313/313 - 1s - loss: 1.1710 - accuracy: 0.7978 - 1s/epoch - 3ms/step\n",
      "Test accuracy: 0.7978000044822693\n",
      "107/313 [=========>....................] - ETA: 0s"
     ]
    },
    {
     "name": "stderr",
     "output_type": "stream",
     "text": [
      "2024-03-22 14:34:14.670276: I tensorflow/core/grappler/optimizers/custom_graph_optimizer_registry.cc:114] Plugin optimizer for device_type GPU is enabled.\n"
     ]
    },
    {
     "name": "stdout",
     "output_type": "stream",
     "text": [
      "313/313 [==============================] - 0s 1ms/step\n",
      "Accuracy score:  0.7978\n",
      "Precision score:  0.8218113748306616\n",
      "Recall Score:  0.7978\n",
      "F1 Score:  0.7947429484835027\n"
     ]
    }
   ],
   "source": [
    "# Create global model and set weights\n",
    "global_model = create_client_model()\n",
    "global_model.set_weights(aggregated_weights)\n",
    "\n",
    "# Evaluate global model\n",
    "test_loss, test_acc = global_model.evaluate(x_test, y_test, verbose=2)\n",
    "print('Test accuracy:', test_acc)\n",
    "\n",
    "prediction = global_model.predict(x_test)\n",
    "prediction = list(prediction.argmax(axis=1))\n",
    "\n",
    "print(\"Accuracy score: \", accuracy_score(y_test, prediction))\n",
    "print(\"Precision score: \", precision_score(y_test, prediction,average='weighted'))\n",
    "print(\"Recall Score: \", recall_score(y_test, prediction,average='weighted'))\n",
    "print(\"F1 Score: \",f1_score(y_test, prediction,average='weighted'))\n",
    "\n",
    "\n",
    "\n",
    "Clients_6_Scores = [accuracy_score(y_test, prediction), precision_score(y_test, prediction,average='weighted'), recall_score(y_test, prediction,average='weighted'), f1_score(y_test, prediction,average='weighted')]"
   ]
  },
  {
   "cell_type": "markdown",
   "metadata": {},
   "source": [
    "## 8 Clients"
   ]
  },
  {
   "cell_type": "code",
   "execution_count": 34,
   "metadata": {},
   "outputs": [],
   "source": [
    "x_train_c1= x_train[0:7500]\n",
    "x_train_c2= x_train[7500: 15000]\n",
    "x_train_c3= x_train[15000: 22500]\n",
    "x_train_c4= x_train[22500: 30000]\n",
    "x_train_c5= x_train[30000: 37500]\n",
    "x_train_c6= x_train[37500:45000]\n",
    "x_train_c7= x_train[45000:52500]\n",
    "x_train_c8= x_train[52500:]\n",
    "\n",
    "y_train_c1= y_train[0:7500]\n",
    "y_train_c2= y_train[7500: 15000]\n",
    "y_train_c3= y_train[15000: 22500]\n",
    "y_train_c4= y_train[22500: 30000]\n",
    "y_train_c5= y_train[30000: 37500]\n",
    "y_train_c6= y_train[37500:45000]\n",
    "y_train_c7= y_train[45000:52500]\n",
    "y_train_c8= y_train[52500:]"
   ]
  },
  {
   "cell_type": "code",
   "execution_count": 35,
   "metadata": {},
   "outputs": [],
   "source": [
    "client1_model = create_client_model()\n",
    "client2_model = create_client_model()\n",
    "client3_model = create_client_model()\n",
    "client4_model = create_client_model()\n",
    "client5_model = create_client_model()\n",
    "client6_model = create_client_model()\n",
    "client7_model = create_client_model()\n",
    "client8_model = create_client_model()"
   ]
  },
  {
   "cell_type": "code",
   "execution_count": 36,
   "metadata": {
    "scrolled": true
   },
   "outputs": [
    {
     "name": "stdout",
     "output_type": "stream",
     "text": [
      "Epoch 1/5\n",
      " 23/235 [=>............................] - ETA: 1s - loss: 1.5201 - accuracy: 0.5448"
     ]
    },
    {
     "name": "stderr",
     "output_type": "stream",
     "text": [
      "2024-03-22 14:34:15.392407: I tensorflow/core/grappler/optimizers/custom_graph_optimizer_registry.cc:114] Plugin optimizer for device_type GPU is enabled.\n"
     ]
    },
    {
     "name": "stdout",
     "output_type": "stream",
     "text": [
      "235/235 [==============================] - 1s 5ms/step - loss: 0.5641 - accuracy: 0.8412\n",
      "Epoch 2/5\n",
      "235/235 [==============================] - 1s 5ms/step - loss: 0.3054 - accuracy: 0.9120\n",
      "Epoch 3/5\n",
      "235/235 [==============================] - 1s 5ms/step - loss: 0.2748 - accuracy: 0.9181\n",
      "Epoch 4/5\n",
      "235/235 [==============================] - 1s 5ms/step - loss: 0.2491 - accuracy: 0.9283\n",
      "Epoch 5/5\n",
      "235/235 [==============================] - 1s 5ms/step - loss: 0.2324 - accuracy: 0.9325\n",
      "Epoch 1/5\n",
      " 12/235 [>.............................] - ETA: 1s - loss: 1.9068 - accuracy: 0.3906 "
     ]
    },
    {
     "name": "stderr",
     "output_type": "stream",
     "text": [
      "2024-03-22 14:34:21.090712: I tensorflow/core/grappler/optimizers/custom_graph_optimizer_registry.cc:114] Plugin optimizer for device_type GPU is enabled.\n"
     ]
    },
    {
     "name": "stdout",
     "output_type": "stream",
     "text": [
      "235/235 [==============================] - 1s 5ms/step - loss: 0.6176 - accuracy: 0.8196\n",
      "Epoch 2/5\n",
      "235/235 [==============================] - 1s 4ms/step - loss: 0.3574 - accuracy: 0.8955\n",
      "Epoch 3/5\n",
      "235/235 [==============================] - 1s 4ms/step - loss: 0.3146 - accuracy: 0.9107\n",
      "Epoch 4/5\n",
      "235/235 [==============================] - 1s 4ms/step - loss: 0.2898 - accuracy: 0.9187\n",
      "Epoch 5/5\n",
      "235/235 [==============================] - 1s 4ms/step - loss: 0.2761 - accuracy: 0.9217\n",
      "Epoch 1/5\n",
      " 25/235 [==>...........................] - ETA: 0s - loss: 1.5903 - accuracy: 0.4950"
     ]
    },
    {
     "name": "stderr",
     "output_type": "stream",
     "text": [
      "2024-03-22 14:34:26.535913: I tensorflow/core/grappler/optimizers/custom_graph_optimizer_registry.cc:114] Plugin optimizer for device_type GPU is enabled.\n"
     ]
    },
    {
     "name": "stdout",
     "output_type": "stream",
     "text": [
      "235/235 [==============================] - 1s 4ms/step - loss: 0.5949 - accuracy: 0.8281\n",
      "Epoch 2/5\n",
      "235/235 [==============================] - 1s 4ms/step - loss: 0.3188 - accuracy: 0.9132\n",
      "Epoch 3/5\n",
      "235/235 [==============================] - 1s 4ms/step - loss: 0.2795 - accuracy: 0.9209\n",
      "Epoch 4/5\n",
      "235/235 [==============================] - 1s 4ms/step - loss: 0.2540 - accuracy: 0.9283\n",
      "Epoch 5/5\n",
      "235/235 [==============================] - 1s 4ms/step - loss: 0.2402 - accuracy: 0.9345\n",
      "Epoch 1/5\n",
      " 23/235 [=>............................] - ETA: 0s - loss: 1.6789 - accuracy: 0.4715   "
     ]
    },
    {
     "name": "stderr",
     "output_type": "stream",
     "text": [
      "2024-03-22 14:34:31.860566: I tensorflow/core/grappler/optimizers/custom_graph_optimizer_registry.cc:114] Plugin optimizer for device_type GPU is enabled.\n"
     ]
    },
    {
     "name": "stdout",
     "output_type": "stream",
     "text": [
      "235/235 [==============================] - 1s 5ms/step - loss: 0.6143 - accuracy: 0.8235\n",
      "Epoch 2/5\n",
      "235/235 [==============================] - 1s 4ms/step - loss: 0.3227 - accuracy: 0.9045\n",
      "Epoch 3/5\n",
      "235/235 [==============================] - 1s 4ms/step - loss: 0.2796 - accuracy: 0.9209\n",
      "Epoch 4/5\n",
      "235/235 [==============================] - 1s 4ms/step - loss: 0.2573 - accuracy: 0.9263\n",
      "Epoch 5/5\n",
      "235/235 [==============================] - 1s 4ms/step - loss: 0.2435 - accuracy: 0.9297\n",
      "Epoch 1/5\n",
      " 25/235 [==>...........................] - ETA: 0s - loss: 1.5750 - accuracy: 0.5550"
     ]
    },
    {
     "name": "stderr",
     "output_type": "stream",
     "text": [
      "2024-03-22 14:34:37.204587: I tensorflow/core/grappler/optimizers/custom_graph_optimizer_registry.cc:114] Plugin optimizer for device_type GPU is enabled.\n"
     ]
    },
    {
     "name": "stdout",
     "output_type": "stream",
     "text": [
      "235/235 [==============================] - 1s 4ms/step - loss: 0.6311 - accuracy: 0.8204\n",
      "Epoch 2/5\n",
      "235/235 [==============================] - 1s 4ms/step - loss: 0.3438 - accuracy: 0.9013\n",
      "Epoch 3/5\n",
      "235/235 [==============================] - 1s 4ms/step - loss: 0.3066 - accuracy: 0.9115\n",
      "Epoch 4/5\n",
      "235/235 [==============================] - 1s 4ms/step - loss: 0.2784 - accuracy: 0.9185\n",
      "Epoch 5/5\n",
      "235/235 [==============================] - 1s 4ms/step - loss: 0.2646 - accuracy: 0.9265\n",
      "Epoch 1/5\n",
      " 25/235 [==>...........................] - ETA: 0s - loss: 1.6209 - accuracy: 0.4950"
     ]
    },
    {
     "name": "stderr",
     "output_type": "stream",
     "text": [
      "2024-03-22 14:34:42.553444: I tensorflow/core/grappler/optimizers/custom_graph_optimizer_registry.cc:114] Plugin optimizer for device_type GPU is enabled.\n"
     ]
    },
    {
     "name": "stdout",
     "output_type": "stream",
     "text": [
      "235/235 [==============================] - 1s 5ms/step - loss: 0.6157 - accuracy: 0.8215\n",
      "Epoch 2/5\n",
      "235/235 [==============================] - 1s 4ms/step - loss: 0.3358 - accuracy: 0.9008\n",
      "Epoch 3/5\n",
      "235/235 [==============================] - 1s 4ms/step - loss: 0.2972 - accuracy: 0.9132\n",
      "Epoch 4/5\n",
      "235/235 [==============================] - 1s 4ms/step - loss: 0.2786 - accuracy: 0.9151\n",
      "Epoch 5/5\n",
      "235/235 [==============================] - 1s 4ms/step - loss: 0.2623 - accuracy: 0.9224\n",
      "Epoch 1/5\n",
      " 24/235 [==>...........................] - ETA: 0s - loss: 1.5393 - accuracy: 0.5156"
     ]
    },
    {
     "name": "stderr",
     "output_type": "stream",
     "text": [
      "2024-03-22 14:34:47.916458: I tensorflow/core/grappler/optimizers/custom_graph_optimizer_registry.cc:114] Plugin optimizer for device_type GPU is enabled.\n"
     ]
    },
    {
     "name": "stdout",
     "output_type": "stream",
     "text": [
      "235/235 [==============================] - 1s 4ms/step - loss: 0.6068 - accuracy: 0.8221\n",
      "Epoch 2/5\n",
      "235/235 [==============================] - 1s 4ms/step - loss: 0.3399 - accuracy: 0.9029\n",
      "Epoch 3/5\n",
      "235/235 [==============================] - 1s 4ms/step - loss: 0.3013 - accuracy: 0.9149\n",
      "Epoch 4/5\n",
      "235/235 [==============================] - 1s 4ms/step - loss: 0.2748 - accuracy: 0.9212\n",
      "Epoch 5/5\n",
      "235/235 [==============================] - 1s 4ms/step - loss: 0.2572 - accuracy: 0.9291\n",
      "Epoch 1/5\n",
      " 25/235 [==>...........................] - ETA: 0s - loss: 1.5830 - accuracy: 0.5225"
     ]
    },
    {
     "name": "stderr",
     "output_type": "stream",
     "text": [
      "2024-03-22 14:34:53.300580: I tensorflow/core/grappler/optimizers/custom_graph_optimizer_registry.cc:114] Plugin optimizer for device_type GPU is enabled.\n"
     ]
    },
    {
     "name": "stdout",
     "output_type": "stream",
     "text": [
      "235/235 [==============================] - 1s 4ms/step - loss: 0.5541 - accuracy: 0.8411\n",
      "Epoch 2/5\n",
      "235/235 [==============================] - 1s 4ms/step - loss: 0.2896 - accuracy: 0.9149\n",
      "Epoch 3/5\n",
      "235/235 [==============================] - 1s 4ms/step - loss: 0.2471 - accuracy: 0.9245\n",
      "Epoch 4/5\n",
      "235/235 [==============================] - 1s 4ms/step - loss: 0.2292 - accuracy: 0.9333\n",
      "Epoch 5/5\n",
      "235/235 [==============================] - 1s 4ms/step - loss: 0.2116 - accuracy: 0.9351\n"
     ]
    }
   ],
   "source": [
    "client1_model = train_client_model(client1_model, x_train_c1, y_train_c1)\n",
    "client2_model = train_client_model(client2_model, x_train_c2, y_train_c2)\n",
    "client3_model = train_client_model(client3_model, x_train_c3, y_train_c3)\n",
    "client4_model = train_client_model(client4_model, x_train_c4, y_train_c4)\n",
    "client5_model = train_client_model(client5_model, x_train_c5, y_train_c5)\n",
    "client6_model = train_client_model(client6_model, x_train_c6, y_train_c6)\n",
    "client7_model = train_client_model(client7_model, x_train_c7, y_train_c7)\n",
    "client8_model = train_client_model(client8_model, x_train_c8, y_train_c8)"
   ]
  },
  {
   "cell_type": "code",
   "execution_count": 37,
   "metadata": {},
   "outputs": [],
   "source": [
    "# Federated averaging\n",
    "def federated_average_weights_4_Clients(weights1, weights2, weights3, weights4, weights5, weights6, weights7, weights8):\n",
    "    new_weights = []\n",
    "    for w1, w2, w3, w4, w5, w6, w7, w8 in zip(weights1, weights2, weights3, weights4, weights5, weights6, weights7, weights8):\n",
    "        new_weights.append((w1 + w2 + w3 + w4 + w5 + w6 + w7 + w8) / 8)\n",
    "    return new_weights"
   ]
  },
  {
   "cell_type": "code",
   "execution_count": 38,
   "metadata": {},
   "outputs": [],
   "source": [
    "# Aggregate models\n",
    "aggregated_weights = federated_average_weights_4_Clients(client1_model.get_weights(), \n",
    "                                               client2_model.get_weights(), \n",
    "                                               client3_model.get_weights(), \n",
    "                                               client4_model.get_weights(),\n",
    "                                               client5_model.get_weights(), \n",
    "                                               client6_model.get_weights(),\n",
    "                                               client7_model.get_weights(), \n",
    "                                               client8_model.get_weights())"
   ]
  },
  {
   "cell_type": "code",
   "execution_count": 39,
   "metadata": {},
   "outputs": [
    {
     "name": "stderr",
     "output_type": "stream",
     "text": [
      "2024-03-22 14:34:58.652819: I tensorflow/core/grappler/optimizers/custom_graph_optimizer_registry.cc:114] Plugin optimizer for device_type GPU is enabled.\n"
     ]
    },
    {
     "name": "stdout",
     "output_type": "stream",
     "text": [
      "313/313 - 1s - loss: 1.3772 - accuracy: 0.7651 - 1s/epoch - 3ms/step\n",
      "Test accuracy: 0.7651000022888184\n",
      "120/313 [==========>...................] - ETA: 0s"
     ]
    },
    {
     "name": "stderr",
     "output_type": "stream",
     "text": [
      "2024-03-22 14:34:59.657665: I tensorflow/core/grappler/optimizers/custom_graph_optimizer_registry.cc:114] Plugin optimizer for device_type GPU is enabled.\n"
     ]
    },
    {
     "name": "stdout",
     "output_type": "stream",
     "text": [
      "313/313 [==============================] - 0s 1ms/step\n",
      "Accuracy score:  0.7651\n",
      "Precision score:  0.8397713246272402\n",
      "Recall Score:  0.7651\n",
      "F1 Score:  0.7589859286641858\n"
     ]
    }
   ],
   "source": [
    "# Create global model and set weights\n",
    "global_model = create_client_model()\n",
    "global_model.set_weights(aggregated_weights)\n",
    "\n",
    "# Evaluate global model\n",
    "test_loss, test_acc = global_model.evaluate(x_test, y_test, verbose=2)\n",
    "print('Test accuracy:', test_acc)\n",
    "\n",
    "prediction = global_model.predict(x_test)\n",
    "prediction = list(prediction.argmax(axis=1))\n",
    "\n",
    "print(\"Accuracy score: \", accuracy_score(y_test, prediction))\n",
    "print(\"Precision score: \", precision_score(y_test, prediction,average='weighted'))\n",
    "print(\"Recall Score: \", recall_score(y_test, prediction,average='weighted'))\n",
    "print(\"F1 Score: \",f1_score(y_test, prediction,average='weighted'))\n",
    "\n",
    "\n",
    "Clients_8_Scores = [accuracy_score(y_test, prediction), precision_score(y_test, prediction,average='weighted'), recall_score(y_test, prediction,average='weighted'), f1_score(y_test, prediction,average='weighted')]"
   ]
  },
  {
   "cell_type": "markdown",
   "metadata": {},
   "source": [
    "## 10 Clients"
   ]
  },
  {
   "cell_type": "code",
   "execution_count": 40,
   "metadata": {},
   "outputs": [],
   "source": [
    "x_train_c1= x_train[0:6000]\n",
    "x_train_c2= x_train[6000:12000]\n",
    "x_train_c3= x_train[12000:18000]\n",
    "x_train_c4= x_train[18000:24000]\n",
    "x_train_c5= x_train[24000:30000]\n",
    "x_train_c6= x_train[30000:36000]\n",
    "x_train_c7= x_train[36000:42000]\n",
    "x_train_c8= x_train[42000:48000]\n",
    "x_train_c9= x_train[48000:54000]\n",
    "x_train_c10= x_train[54000:]\n",
    "\n",
    "\n",
    "\n",
    "y_train_c1= y_train[0:6000]\n",
    "y_train_c2= y_train[6000:12000]\n",
    "y_train_c3= y_train[12000:18000]\n",
    "y_train_c4= y_train[18000:24000]\n",
    "y_train_c5= y_train[24000:30000]\n",
    "y_train_c6= y_train[30000:36000]\n",
    "y_train_c7= y_train[36000:42000]\n",
    "y_train_c8= y_train[42000:48000]\n",
    "y_train_c9= y_train[48000:54000]\n",
    "y_train_c10= y_train[54000:]"
   ]
  },
  {
   "cell_type": "code",
   "execution_count": 41,
   "metadata": {},
   "outputs": [],
   "source": [
    "client1_model = create_client_model()\n",
    "client2_model = create_client_model()\n",
    "client3_model = create_client_model()\n",
    "client4_model = create_client_model()\n",
    "client5_model = create_client_model()\n",
    "client6_model = create_client_model()\n",
    "client7_model = create_client_model()\n",
    "client8_model = create_client_model()\n",
    "client9_model = create_client_model()\n",
    "client10_model = create_client_model()"
   ]
  },
  {
   "cell_type": "code",
   "execution_count": 42,
   "metadata": {
    "scrolled": true
   },
   "outputs": [
    {
     "name": "stdout",
     "output_type": "stream",
     "text": [
      "Epoch 1/5\n",
      " 24/188 [==>...........................] - ETA: 0s - loss: 1.5603 - accuracy: 0.5195"
     ]
    },
    {
     "name": "stderr",
     "output_type": "stream",
     "text": [
      "2024-03-22 14:35:00.350433: I tensorflow/core/grappler/optimizers/custom_graph_optimizer_registry.cc:114] Plugin optimizer for device_type GPU is enabled.\n"
     ]
    },
    {
     "name": "stdout",
     "output_type": "stream",
     "text": [
      "188/188 [==============================] - 1s 5ms/step - loss: 0.6281 - accuracy: 0.8243\n",
      "Epoch 2/5\n",
      "188/188 [==============================] - 1s 4ms/step - loss: 0.3157 - accuracy: 0.9103\n",
      "Epoch 3/5\n",
      "188/188 [==============================] - 1s 4ms/step - loss: 0.2689 - accuracy: 0.9243\n",
      "Epoch 4/5\n",
      "188/188 [==============================] - 1s 4ms/step - loss: 0.2447 - accuracy: 0.9328\n",
      "Epoch 5/5\n",
      "188/188 [==============================] - 1s 4ms/step - loss: 0.2295 - accuracy: 0.9352\n",
      "Epoch 1/5\n",
      " 24/188 [==>...........................] - ETA: 0s - loss: 1.5188 - accuracy: 0.5586"
     ]
    },
    {
     "name": "stderr",
     "output_type": "stream",
     "text": [
      "2024-03-22 14:35:04.721663: I tensorflow/core/grappler/optimizers/custom_graph_optimizer_registry.cc:114] Plugin optimizer for device_type GPU is enabled.\n"
     ]
    },
    {
     "name": "stdout",
     "output_type": "stream",
     "text": [
      "188/188 [==============================] - 1s 4ms/step - loss: 0.6265 - accuracy: 0.8188\n",
      "Epoch 2/5\n",
      "188/188 [==============================] - 1s 4ms/step - loss: 0.3288 - accuracy: 0.9058\n",
      "Epoch 3/5\n",
      "188/188 [==============================] - 1s 4ms/step - loss: 0.2794 - accuracy: 0.9193\n",
      "Epoch 4/5\n",
      "188/188 [==============================] - 1s 4ms/step - loss: 0.2557 - accuracy: 0.9237\n",
      "Epoch 5/5\n",
      "188/188 [==============================] - 1s 4ms/step - loss: 0.2345 - accuracy: 0.9295\n",
      "Epoch 1/5\n",
      " 24/188 [==>...........................] - ETA: 0s - loss: 1.6824 - accuracy: 0.4727"
     ]
    },
    {
     "name": "stderr",
     "output_type": "stream",
     "text": [
      "2024-03-22 14:35:09.025664: I tensorflow/core/grappler/optimizers/custom_graph_optimizer_registry.cc:114] Plugin optimizer for device_type GPU is enabled.\n"
     ]
    },
    {
     "name": "stdout",
     "output_type": "stream",
     "text": [
      "188/188 [==============================] - 1s 4ms/step - loss: 0.7252 - accuracy: 0.7887\n",
      "Epoch 2/5\n",
      "188/188 [==============================] - 1s 4ms/step - loss: 0.3773 - accuracy: 0.8907\n",
      "Epoch 3/5\n",
      "188/188 [==============================] - 1s 4ms/step - loss: 0.3268 - accuracy: 0.8998\n",
      "Epoch 4/5\n",
      "188/188 [==============================] - 1s 4ms/step - loss: 0.2904 - accuracy: 0.9133\n",
      "Epoch 5/5\n",
      "188/188 [==============================] - 1s 4ms/step - loss: 0.2710 - accuracy: 0.9205\n",
      "Epoch 1/5\n",
      " 25/188 [==>...........................] - ETA: 0s - loss: 1.5232 - accuracy: 0.5337"
     ]
    },
    {
     "name": "stderr",
     "output_type": "stream",
     "text": [
      "2024-03-22 14:35:13.353050: I tensorflow/core/grappler/optimizers/custom_graph_optimizer_registry.cc:114] Plugin optimizer for device_type GPU is enabled.\n"
     ]
    },
    {
     "name": "stdout",
     "output_type": "stream",
     "text": [
      "188/188 [==============================] - 1s 4ms/step - loss: 0.6295 - accuracy: 0.8228\n",
      "Epoch 2/5\n",
      "188/188 [==============================] - 1s 4ms/step - loss: 0.3146 - accuracy: 0.9120\n",
      "Epoch 3/5\n",
      "188/188 [==============================] - 1s 4ms/step - loss: 0.2715 - accuracy: 0.9257\n",
      "Epoch 4/5\n",
      "188/188 [==============================] - 1s 4ms/step - loss: 0.2439 - accuracy: 0.9312\n",
      "Epoch 5/5\n",
      "188/188 [==============================] - 1s 6ms/step - loss: 0.2275 - accuracy: 0.9370\n",
      "Epoch 1/5\n",
      " 23/188 [==>...........................] - ETA: 0s - loss: 1.5961 - accuracy: 0.5095"
     ]
    },
    {
     "name": "stderr",
     "output_type": "stream",
     "text": [
      "2024-03-22 14:35:17.959007: I tensorflow/core/grappler/optimizers/custom_graph_optimizer_registry.cc:114] Plugin optimizer for device_type GPU is enabled.\n"
     ]
    },
    {
     "name": "stdout",
     "output_type": "stream",
     "text": [
      "188/188 [==============================] - 1s 5ms/step - loss: 0.6767 - accuracy: 0.8088\n",
      "Epoch 2/5\n",
      "188/188 [==============================] - 1s 5ms/step - loss: 0.3395 - accuracy: 0.9023\n",
      "Epoch 3/5\n",
      "188/188 [==============================] - 1s 5ms/step - loss: 0.2880 - accuracy: 0.9177\n",
      "Epoch 4/5\n",
      "188/188 [==============================] - 1s 5ms/step - loss: 0.2602 - accuracy: 0.9260\n",
      "Epoch 5/5\n",
      "188/188 [==============================] - 1s 5ms/step - loss: 0.2433 - accuracy: 0.9307\n",
      "Epoch 1/5\n",
      " 21/188 [==>...........................] - ETA: 0s - loss: 1.8047 - accuracy: 0.4122   "
     ]
    },
    {
     "name": "stderr",
     "output_type": "stream",
     "text": [
      "2024-03-22 14:35:22.591192: I tensorflow/core/grappler/optimizers/custom_graph_optimizer_registry.cc:114] Plugin optimizer for device_type GPU is enabled.\n"
     ]
    },
    {
     "name": "stdout",
     "output_type": "stream",
     "text": [
      "188/188 [==============================] - 1s 5ms/step - loss: 0.7031 - accuracy: 0.7970\n",
      "Epoch 2/5\n",
      "188/188 [==============================] - 1s 4ms/step - loss: 0.3438 - accuracy: 0.9027\n",
      "Epoch 3/5\n",
      "188/188 [==============================] - 1s 4ms/step - loss: 0.2939 - accuracy: 0.9148\n",
      "Epoch 4/5\n",
      "188/188 [==============================] - 1s 4ms/step - loss: 0.2702 - accuracy: 0.9200\n",
      "Epoch 5/5\n",
      "188/188 [==============================] - 1s 4ms/step - loss: 0.2517 - accuracy: 0.9240\n",
      "Epoch 1/5\n",
      " 25/188 [==>...........................] - ETA: 0s - loss: 1.5432 - accuracy: 0.5387"
     ]
    },
    {
     "name": "stderr",
     "output_type": "stream",
     "text": [
      "2024-03-22 14:35:27.029184: I tensorflow/core/grappler/optimizers/custom_graph_optimizer_registry.cc:114] Plugin optimizer for device_type GPU is enabled.\n"
     ]
    },
    {
     "name": "stdout",
     "output_type": "stream",
     "text": [
      "188/188 [==============================] - 1s 5ms/step - loss: 0.6710 - accuracy: 0.8042\n",
      "Epoch 2/5\n",
      "188/188 [==============================] - 1s 4ms/step - loss: 0.3572 - accuracy: 0.8982\n",
      "Epoch 3/5\n",
      "188/188 [==============================] - 1s 4ms/step - loss: 0.3091 - accuracy: 0.9115\n",
      "Epoch 4/5\n",
      "188/188 [==============================] - 1s 4ms/step - loss: 0.2856 - accuracy: 0.9158\n",
      "Epoch 5/5\n",
      "188/188 [==============================] - 1s 4ms/step - loss: 0.2703 - accuracy: 0.9202\n",
      "Epoch 1/5\n",
      " 25/188 [==>...........................] - ETA: 0s - loss: 1.5570 - accuracy: 0.5387"
     ]
    },
    {
     "name": "stderr",
     "output_type": "stream",
     "text": [
      "2024-03-22 14:35:31.359878: I tensorflow/core/grappler/optimizers/custom_graph_optimizer_registry.cc:114] Plugin optimizer for device_type GPU is enabled.\n"
     ]
    },
    {
     "name": "stdout",
     "output_type": "stream",
     "text": [
      "188/188 [==============================] - 1s 5ms/step - loss: 0.6716 - accuracy: 0.8035\n",
      "Epoch 2/5\n",
      "188/188 [==============================] - 1s 4ms/step - loss: 0.3595 - accuracy: 0.8928\n",
      "Epoch 3/5\n",
      "188/188 [==============================] - 1s 4ms/step - loss: 0.3092 - accuracy: 0.9075\n",
      "Epoch 4/5\n",
      "188/188 [==============================] - 1s 4ms/step - loss: 0.2876 - accuracy: 0.9150\n",
      "Epoch 5/5\n",
      "188/188 [==============================] - 1s 4ms/step - loss: 0.2660 - accuracy: 0.9197\n",
      "Epoch 1/5\n",
      " 13/188 [=>............................] - ETA: 0s - loss: 1.8717 - accuracy: 0.3726 "
     ]
    },
    {
     "name": "stderr",
     "output_type": "stream",
     "text": [
      "2024-03-22 14:35:35.686013: I tensorflow/core/grappler/optimizers/custom_graph_optimizer_registry.cc:114] Plugin optimizer for device_type GPU is enabled.\n"
     ]
    },
    {
     "name": "stdout",
     "output_type": "stream",
     "text": [
      "188/188 [==============================] - 1s 5ms/step - loss: 0.6536 - accuracy: 0.8122\n",
      "Epoch 2/5\n",
      "188/188 [==============================] - 1s 4ms/step - loss: 0.3453 - accuracy: 0.9027\n",
      "Epoch 3/5\n",
      "188/188 [==============================] - 1s 4ms/step - loss: 0.3021 - accuracy: 0.9133\n",
      "Epoch 4/5\n",
      "188/188 [==============================] - 1s 4ms/step - loss: 0.2694 - accuracy: 0.9237\n",
      "Epoch 5/5\n",
      "188/188 [==============================] - 1s 4ms/step - loss: 0.2481 - accuracy: 0.9285\n",
      "Epoch 1/5\n",
      " 25/188 [==>...........................] - ETA: 0s - loss: 1.5878 - accuracy: 0.5288"
     ]
    },
    {
     "name": "stderr",
     "output_type": "stream",
     "text": [
      "2024-03-22 14:35:40.049061: I tensorflow/core/grappler/optimizers/custom_graph_optimizer_registry.cc:114] Plugin optimizer for device_type GPU is enabled.\n"
     ]
    },
    {
     "name": "stdout",
     "output_type": "stream",
     "text": [
      "188/188 [==============================] - 1s 5ms/step - loss: 0.5929 - accuracy: 0.8362\n",
      "Epoch 2/5\n",
      "188/188 [==============================] - 1s 4ms/step - loss: 0.2772 - accuracy: 0.9202\n",
      "Epoch 3/5\n",
      "188/188 [==============================] - 1s 4ms/step - loss: 0.2313 - accuracy: 0.9337\n",
      "Epoch 4/5\n",
      "188/188 [==============================] - 1s 4ms/step - loss: 0.2094 - accuracy: 0.9388\n",
      "Epoch 5/5\n",
      "188/188 [==============================] - 1s 4ms/step - loss: 0.1948 - accuracy: 0.9445\n"
     ]
    }
   ],
   "source": [
    "client1_model = train_client_model(client1_model, x_train_c1, y_train_c1)\n",
    "client2_model = train_client_model(client2_model, x_train_c2, y_train_c2)\n",
    "client3_model = train_client_model(client3_model, x_train_c3, y_train_c3)\n",
    "client4_model = train_client_model(client4_model, x_train_c4, y_train_c4)\n",
    "client5_model = train_client_model(client5_model, x_train_c5, y_train_c5)\n",
    "client6_model = train_client_model(client6_model, x_train_c6, y_train_c6)\n",
    "client7_model = train_client_model(client7_model, x_train_c7, y_train_c7)\n",
    "client8_model = train_client_model(client8_model, x_train_c8, y_train_c8)\n",
    "client9_model = train_client_model(client9_model, x_train_c9, y_train_c9)\n",
    "client10_model = train_client_model(client10_model, x_train_c10, y_train_c10)"
   ]
  },
  {
   "cell_type": "code",
   "execution_count": 43,
   "metadata": {},
   "outputs": [],
   "source": [
    "# Federated averaging\n",
    "def federated_average_weights_4_Clients(weights1, weights2, weights3, weights4, weights5, weights6, weights7, weights8, weights9, weights10):\n",
    "    new_weights = []\n",
    "    for w1, w2, w3, w4, w5, w6, w7, w8, w9, w10 in zip(weights1, weights2, weights3, weights4, weights5, weights6, weights7, weights8, weights9, weights10):\n",
    "        new_weights.append((w1 + w2 + w3 + w4 + w5 + w6 + w7 + w8 + w9 + w10) / 10)\n",
    "    return new_weights"
   ]
  },
  {
   "cell_type": "code",
   "execution_count": 44,
   "metadata": {},
   "outputs": [],
   "source": [
    "# Aggregate models\n",
    "aggregated_weights = federated_average_weights_4_Clients(client1_model.get_weights(), \n",
    "                                               client2_model.get_weights(), \n",
    "                                               client3_model.get_weights(), \n",
    "                                               client4_model.get_weights(),\n",
    "                                               client5_model.get_weights(), \n",
    "                                               client6_model.get_weights(),\n",
    "                                               client7_model.get_weights(), \n",
    "                                               client8_model.get_weights(),\n",
    "                                               client9_model.get_weights(), \n",
    "                                               client10_model.get_weights())"
   ]
  },
  {
   "cell_type": "code",
   "execution_count": 45,
   "metadata": {},
   "outputs": [
    {
     "name": "stderr",
     "output_type": "stream",
     "text": [
      "2024-03-22 14:35:44.386706: I tensorflow/core/grappler/optimizers/custom_graph_optimizer_registry.cc:114] Plugin optimizer for device_type GPU is enabled.\n"
     ]
    },
    {
     "name": "stdout",
     "output_type": "stream",
     "text": [
      "313/313 - 1s - loss: 1.5333 - accuracy: 0.6819 - 1s/epoch - 3ms/step\n",
      "Test accuracy: 0.6819000244140625\n",
      "119/313 [==========>...................] - ETA: 0s"
     ]
    },
    {
     "name": "stderr",
     "output_type": "stream",
     "text": [
      "2024-03-22 14:35:45.402947: I tensorflow/core/grappler/optimizers/custom_graph_optimizer_registry.cc:114] Plugin optimizer for device_type GPU is enabled.\n"
     ]
    },
    {
     "name": "stdout",
     "output_type": "stream",
     "text": [
      "313/313 [==============================] - 0s 1ms/step\n",
      "Accuracy score:  0.6819\n",
      "Precision score:  0.824093666676365\n",
      "Recall Score:  0.6819\n",
      "F1 Score:  0.687801251939939\n"
     ]
    }
   ],
   "source": [
    "# Create global model and set weights\n",
    "global_model = create_client_model()\n",
    "global_model.set_weights(aggregated_weights)\n",
    "\n",
    "# Evaluate global model\n",
    "test_loss, test_acc = global_model.evaluate(x_test, y_test, verbose=2)\n",
    "print('Test accuracy:', test_acc)\n",
    "\n",
    "prediction = global_model.predict(x_test)\n",
    "prediction = list(prediction.argmax(axis=1))\n",
    "\n",
    "print(\"Accuracy score: \", accuracy_score(y_test, prediction))\n",
    "print(\"Precision score: \", precision_score(y_test, prediction,average='weighted'))\n",
    "print(\"Recall Score: \", recall_score(y_test, prediction,average='weighted'))\n",
    "print(\"F1 Score: \",f1_score(y_test, prediction,average='weighted'))\n",
    "\n",
    "\n",
    "Clients_10_Scores = [accuracy_score(y_test, prediction), precision_score(y_test, prediction,average='weighted'), recall_score(y_test, prediction,average='weighted'), f1_score(y_test, prediction,average='weighted')]\n"
   ]
  },
  {
   "cell_type": "code",
   "execution_count": 46,
   "metadata": {},
   "outputs": [
    {
     "name": "stdout",
     "output_type": "stream",
     "text": [
      "[0.6866, 0.756782028541091, 0.6866, 0.6986065860341957]\n",
      "[0.7553, 0.7764296169650438, 0.7553, 0.7392733585387776]\n",
      "[0.7978, 0.8218113748306616, 0.7978, 0.7947429484835027]\n",
      "[0.7651, 0.8397713246272402, 0.7651, 0.7589859286641858]\n",
      "[0.6819, 0.824093666676365, 0.6819, 0.687801251939939]\n"
     ]
    }
   ],
   "source": [
    "print(Clients_2_Scores)\n",
    "print(Clients_4_Scores)\n",
    "print(Clients_6_Scores)\n",
    "print(Clients_8_Scores)\n",
    "print(Clients_10_Scores)"
   ]
  },
  {
   "cell_type": "code",
   "execution_count": 47,
   "metadata": {},
   "outputs": [],
   "source": [
    "import pandas as pd"
   ]
  },
  {
   "cell_type": "code",
   "execution_count": 58,
   "metadata": {},
   "outputs": [
    {
     "name": "stdout",
     "output_type": "stream",
     "text": [
      "[[0.6866, 0.756782028541091, 0.6866, 0.6986065860341957], [0.7553, 0.7764296169650438, 0.7553, 0.7392733585387776], [0.7978, 0.8218113748306616, 0.7978, 0.7947429484835027], [0.7651, 0.8397713246272402, 0.7651, 0.7589859286641858], [0.6819, 0.824093666676365, 0.6819, 0.687801251939939]]\n"
     ]
    }
   ],
   "source": [
    "error_metrics = []\n",
    "error_metrics.append(Clients_2_Scores)\n",
    "error_metrics.append(Clients_4_Scores)\n",
    "error_metrics.append(Clients_6_Scores)\n",
    "error_metrics.append(Clients_8_Scores)\n",
    "error_metrics.append(Clients_10_Scores)\n",
    "\n",
    "print(error_metrics)"
   ]
  },
  {
   "cell_type": "code",
   "execution_count": 65,
   "metadata": {},
   "outputs": [
    {
     "data": {
      "text/html": [
       "<div>\n",
       "<style scoped>\n",
       "    .dataframe tbody tr th:only-of-type {\n",
       "        vertical-align: middle;\n",
       "    }\n",
       "\n",
       "    .dataframe tbody tr th {\n",
       "        vertical-align: top;\n",
       "    }\n",
       "\n",
       "    .dataframe thead th {\n",
       "        text-align: right;\n",
       "    }\n",
       "</style>\n",
       "<table border=\"1\" class=\"dataframe\">\n",
       "  <thead>\n",
       "    <tr style=\"text-align: right;\">\n",
       "      <th></th>\n",
       "      <th>Accuracy</th>\n",
       "      <th>Precision</th>\n",
       "      <th>Recall</th>\n",
       "      <th>F1-Score</th>\n",
       "    </tr>\n",
       "  </thead>\n",
       "  <tbody>\n",
       "    <tr>\n",
       "      <th>2 Clients</th>\n",
       "      <td>0.6866</td>\n",
       "      <td>0.756782</td>\n",
       "      <td>0.6866</td>\n",
       "      <td>0.698607</td>\n",
       "    </tr>\n",
       "    <tr>\n",
       "      <th>4 Clients</th>\n",
       "      <td>0.7553</td>\n",
       "      <td>0.776430</td>\n",
       "      <td>0.7553</td>\n",
       "      <td>0.739273</td>\n",
       "    </tr>\n",
       "    <tr>\n",
       "      <th>6 Clients</th>\n",
       "      <td>0.7978</td>\n",
       "      <td>0.821811</td>\n",
       "      <td>0.7978</td>\n",
       "      <td>0.794743</td>\n",
       "    </tr>\n",
       "    <tr>\n",
       "      <th>8 Clients</th>\n",
       "      <td>0.7651</td>\n",
       "      <td>0.839771</td>\n",
       "      <td>0.7651</td>\n",
       "      <td>0.758986</td>\n",
       "    </tr>\n",
       "    <tr>\n",
       "      <th>10 Clients</th>\n",
       "      <td>0.6819</td>\n",
       "      <td>0.824094</td>\n",
       "      <td>0.6819</td>\n",
       "      <td>0.687801</td>\n",
       "    </tr>\n",
       "  </tbody>\n",
       "</table>\n",
       "</div>"
      ],
      "text/plain": [
       "            Accuracy  Precision  Recall  F1-Score\n",
       "2 Clients     0.6866   0.756782  0.6866  0.698607\n",
       "4 Clients     0.7553   0.776430  0.7553  0.739273\n",
       "6 Clients     0.7978   0.821811  0.7978  0.794743\n",
       "8 Clients     0.7651   0.839771  0.7651  0.758986\n",
       "10 Clients    0.6819   0.824094  0.6819  0.687801"
      ]
     },
     "execution_count": 65,
     "metadata": {},
     "output_type": "execute_result"
    }
   ],
   "source": [
    "error_metrics_pd = pd.DataFrame(error_metrics)\n",
    "error_metrics_pd.columns = ['Accuracy', 'Precision', 'Recall', 'F1-Score']\n",
    "error_metrics_pd = error_metrics_pd.T\n",
    "error_metrics_pd.columns = ['2 Clients', '4 Clients', '6 Clients', '8 Clients', '10 Clients']\n",
    "error_metrics_pd = error_metrics_pd.T\n",
    "error_metrics_pd"
   ]
  },
  {
   "cell_type": "code",
   "execution_count": 1,
   "metadata": {},
   "outputs": [],
   "source": [
    "import pandas as pd\n",
    "\n",
    "data = {\n",
    "    'Clients': ['2 Clients', '4 Clients', '6 Clients', '8 Clients', '10 Clients'],\n",
    "    'Accuracy': [0.6866, 0.7553, 0.7978, 0.7651, 0.6819],\n",
    "    'Precision': [0.756782, 0.776430, 0.821811, 0.839771, 0.824094],\n",
    "    'Recall': [0.6866, 0.7553, 0.7978, 0.7651, 0.6819],\n",
    "    'F1-Score': [0.698607, 0.739273, 0.794743, 0.758986, 0.687801]\n",
    "}\n",
    "\n",
    "df = pd.DataFrame(data)\n"
   ]
  },
  {
   "cell_type": "code",
   "execution_count": 2,
   "metadata": {},
   "outputs": [
    {
     "data": {
      "image/png": "[encoded data removed]",
      "text/plain": [
       "<Figure size 1000x800 with 1 Axes>"
      ]
     },
     "metadata": {},
     "output_type": "display_data"
    }
   ],
   "source": [
    "import matplotlib.pyplot as plt\n",
    "\n",
    "# Set the size of the plot\n",
    "plt.figure(figsize=(10, 8))\n",
    "\n",
    "# Plot each column\n",
    "for column in df.columns[1:]:  # Skip the 'Clients' column for the x-axis\n",
    "    plt.bar(df['Clients'], df[column], label=column)\n",
    "\n",
    "# Add some labels and title\n",
    "plt.xlabel('Number of Clients')\n",
    "plt.ylabel('Scores')\n",
    "plt.title('Error Matrix Metrics per Number of Clients')\n",
    "plt.legend()\n",
    "\n",
    "# Show the plot\n",
    "plt.show()\n"
   ]
  },
  {
   "cell_type": "code",
   "execution_count": 3,
   "metadata": {},
   "outputs": [
    {
     "data": {
      "image/png": "[encoded data removed]",
      "text/plain": [
       "<Figure size 800x600 with 1 Axes>"
      ]
     },
     "metadata": {},
     "output_type": "display_data"
    }
   ],
   "source": [
    "# Set the size of the plot\n",
    "plt.figure(figsize=(8, 6))\n",
    "\n",
    "# Plot Accuracy data\n",
    "plt.bar(df['Clients'], df['Accuracy'], color='skyblue')  # Choosing a color for the bars\n",
    "\n",
    "# Add labels and title\n",
    "plt.xlabel('Number of Clients')\n",
    "plt.ylabel('Accuracy')\n",
    "plt.title('Accuracy Scores per Number of Clients')\n",
    "plt.ylim(0.65, 0.85)  # Set y-axis limits to better visualize differences\n",
    "\n",
    "# Show the plot\n",
    "plt.show()"
   ]
  },
  {
   "cell_type": "code",
   "execution_count": null,
   "metadata": {},
   "outputs": [],
   "source": []
  },
  {
   "cell_type": "code",
   "execution_count": null,
   "metadata": {},
   "outputs": [],
   "source": []
  },
  {
   "cell_type": "code",
   "execution_count": null,
   "metadata": {},
   "outputs": [],
   "source": []
  },
  {
   "cell_type": "code",
   "execution_count": null,
   "metadata": {},
   "outputs": [],
   "source": []
  },
  {
   "cell_type": "code",
   "execution_count": null,
   "metadata": {},
   "outputs": [],
   "source": []
  },
  {
   "cell_type": "code",
   "execution_count": null,
   "metadata": {},
   "outputs": [],
   "source": []
  },
  {
   "cell_type": "code",
   "execution_count": null,
   "metadata": {},
   "outputs": [],
   "source": []
  },
  {
   "cell_type": "code",
   "execution_count": null,
   "metadata": {},
   "outputs": [],
   "source": []
  },
  {
   "cell_type": "code",
   "execution_count": null,
   "metadata": {},
   "outputs": [],
   "source": []
  },
  {
   "cell_type": "code",
   "execution_count": null,
   "metadata": {},
   "outputs": [],
   "source": []
  },
  {
   "cell_type": "markdown",
   "metadata": {
    "id": "aeKbFr6UHMPx"
   },
   "source": [
    "# Lab Logbook requirement: Document the following in lablogbook\n",
    "\n",
    "1. Plot the model's performance for the number of clients ranging from 2, 4, 6, 8, and 10.\n",
    "\n",
    "2. For any specified number of clients, compare the model's performance when one (or more) dishonest clients are present. Plot the performance metrics before and after the presence of dishonest clients.\n",
    "\n",
    "\n"
   ]
  },
  {
   "cell_type": "markdown",
   "metadata": {
    "id": "PQVf56VHHNQe"
   },
   "source": [
    "# Challenges (Optional):\n",
    "\n",
    "## The above code is for one communication round. Write code for multiple communication rounds. In each communication round, clients will train the model on a new dataset. Then the server will merge all these models. Subsequently, the clients will retrain the merged model in the next communication round.\n",
    "\n"
   ]
  }
 ],
 "metadata": {
  "colab": {
   "provenance": []
  },
  "kernelspec": {
   "display_name": "Python 3 (ipykernel)",
   "language": "python",
   "name": "python3"
  },
  "language_info": {
   "codemirror_mode": {
    "name": "ipython",
    "version": 3
   },
   "file_extension": ".py",
   "mimetype": "text/x-python",
   "name": "python",
   "nbconvert_exporter": "python",
   "pygments_lexer": "ipython3",
   "version": "3.8.18"
  }
 },
 "nbformat": 4,
 "nbformat_minor": 4
}
